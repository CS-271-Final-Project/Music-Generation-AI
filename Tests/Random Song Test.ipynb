{
 "cells": [
  {
   "cell_type": "code",
   "execution_count": 1,
   "metadata": {},
   "outputs": [],
   "source": [
    "from music21 import *\n",
    "import random"
   ]
  },
  {
   "cell_type": "markdown",
   "metadata": {},
   "source": [
    "## The List of All Jazz Symbols"
   ]
  },
  {
   "cell_type": "code",
   "execution_count": 2,
   "metadata": {},
   "outputs": [],
   "source": [
    "vocab = ['21', '22', '23', '24', '25', '25,37', '26', '27', '27,56,61,39,54', '28', '28,40', '29', '29,41', '30', '30,42', '31', '31,38,43', '31,43', '32', '32,44', '33', '33,45', '34', '34,46', '34,61,46,58,66', '35', '35,35', '35,35,49', '35,35,49,47', '35,35,49,56,42', '35,35,57', '35,35,57,56,42', '35,38', '35,40', '35,40,51,42', '35,42', '35,42,42', '35,42,49', '35,42,51', '35,42,55', '35,44', '35,46', '35,46,55', '35,47', '35,48', '35,49', '35,49,42', '35,50', '35,51', '35,55', '35,55,42', '35,55,44', '35,57', '35,57,42', '36', '36,48', '36,68,65,61,35,47', '37', '37,42', '37,49', '37,51', '37,53', '37,56', '38', '38,45,50', '38,50', '39', '39,51', '40', '40,28', '40,35', '40,35,42', '40,35,49', '40,40', '40,42', '40,42,35', '40,42,42', '40,42,51,35', '40,42,56', '40,47', '40,50', '40,51,35,42', '40,52', '41', '41,46,53', '41,50', '41,53', '41,56', '42', '42,35', '42,35,49', '42,35,51', '42,35,55', '42,35,56', '42,35,56,49', '42,37', '42,38', '42,40', '42,40,51,35', '42,42', '42,42,57,35,35,56', '42,45,48', '42,47', '42,48', '42,49,35,56', '42,50', '42,51', '42,51,40', '42,54', '42,56', '42,56,35', '42,56,35,49', '43', '43,51', '43,55', '44', '44,32', '44,56', '44,59', '44,74,70,65,54', '44,80,77,75,70,60', '45', '45,42,48', '45,48,54', '45,49,55,57', '45,50', '45,50,54', '45,51,55', '45,52,55', '45,54,48', '45,54,50', '45,55,52', '45,57', '46', '46,35', '46,40', '46,44,40', '46,56,58,61,65,68,53', '46,58', '46,58,34,61,56', '46,68', '46,68,65,61,56', '46,80,77,73,70,61', '47', '47,35', '47,44,50', '47,50', '47,57', '48', '48,40', '48,44', '48,52', '48,57,35,35,47', '48,60', '49', '49,35', '49,35,35', '49,35,35,47', '49,35,35,56,42', '49,37', '49,38,35', '49,44,38,35', '49,52,55,57,61', '49,56,35,42', '49,61', '49,68,64,61,56', '50', '50,45', '50,53', '50,53,57,62', '50,54', '50,54,45', '50,55', '50,55,58,62', '50,62', '51', '51,35', '51,37,44', '51,37,44,38', '51,38', '51,46,44,47', '51,48', '51,52,45,55', '51,52,55,45', '51,55', '51,58,62,55', '51,59,62,57,55', '51,60,56,53', '51,60,56,65', '51,60,56,67', '51,60,57,53', '51,60,57,55', '51,60,57,67', '51,61,58,68', '51,62,57,67', '51,63', '51,63,60,56,53', '51,65,60,58', '51,71,62,57,67', '52', '52,45,55', '52,55', '52,55,45', '52,57', '52,61,57,68', '52,61,58,56', '52,61,58,66', '52,63,58,56', '52,63,58,68', '52,64', '53', '53,41', '53,43', '53,50', '53,56', '53,57', '53,58', '53,60', '53,60,68', '53,60,68,62', '53,61,58,56', '53,61,58,68', '53,62,56,60', '53,62,56,60,68', '53,62,58,55', '53,62,58,67', '53,62,58,69', '53,62,59,56', '53,62,59,57', '53,62,59,68', '53,62,60,69', '53,63,59,56', '53,63,60,56', '53,63,60,68', '53,63,60,70', '53,64,59,57', '53,64,59,69', '53,64,60,69', '53,65', '53,74', '53,79', '54', '54,42', '54,45,48', '54,50,45', '54,56,60,63', '54,58', '54,58,61,63', '54,60', '54,61', '54,61,63,70', '54,62,59,69', '54,63', '54,63,59,70', '54,63,60', '54,63,60,71', '54,63,68', '54,64,60,69', '54,66', '54,70,61,65', '54,74,69,64,59', '55', '55,35,51', '55,40', '55,43', '55,45', '55,45,52', '55,48', '55,49', '55,50', '55,51', '55,52', '55,52,45', '55,57', '55,57,61', '55,58', '55,58,62', '55,58,62,43,46', '55,58,62,51', '55,58,63', '55,59,40,48', '55,59,47,52', '55,59,66', '55,60', '55,60,64', '55,60,64,45', '55,60,65', '55,62', '55,62,66', '55,63', '55,63,75', '55,64', '55,64,60,69', '55,64,62,59', '55,65', '55,65,61,58', '55,65,61,70', '55,65,62,70', '55,66,61,71', '55,67', '55,67,60,51', '56', '56,40', '56,41', '56,44', '56,44,32,51,60', '56,45', '56,46', '56,49', '56,51', '56,53', '56,59,63,52', '56,60', '56,61', '56,62,53,60,68', '56,63,52,59', '56,64,61,71', '56,64,62,59', '56,65', '56,65,61,58', '56,65,61,60', '56,65,61,70', '56,65,61,72', '56,65,62,60', '56,65,62,70', '56,65,62,72', '56,66,63,59', '56,66,63,73', '56,67,62,60', '56,67,62,72', '56,68', '56,68,51,60', '57', '57,35', '57,40', '57,41', '57,45', '57,50', '57,54,65,60', '57,55', '57,55,52,60', '57,60', '57,60,62', '57,60,64', '57,61', '57,61,64,67,70,77', '57,62', '57,62,54,35,47', '57,62,65', '57,62,66', '57,63', '57,64', '57,64,48,42', '57,65', '57,66,62,71', '57,66,63,71', '57,67,52,60', '57,67,63,62', '57,67,63,72', '58', '58,34,61,56', '58,39', '58,46', '58,51', '58,54,61,63', '58,54,61,63,72', '58,54,61,63,75', '58,55', '58,55,51,60', '58,55,51,62', '58,55,63', '58,55,65,62', '58,56,52,61', '58,62', '58,62,55,63', '58,62,67', '58,63,32,56,44', '58,63,51,60,67', '58,63,55', '58,63,62,55', '58,65,62', '58,66,52,61', '58,66,63', '58,67,51,60', '58,67,51,62', '58,67,52,60', '58,67,52,61', '58,67,63,60', '58,67,63,72', '58,67,63,74', '58,68,52,61', '58,68,53,61', '58,68,64,61', '58,68,64,73', '58,69,64,62', '58,70', '58,72', '58,79', '59', '59,52', '59,53', '59,56,52,63', '59,57,54,62', '59,57,54,64', '59,58,53,63', '59,60', '59,62', '59,62,50', '59,62,65', '59,62,66', '59,62,67', '59,63', '59,66,63', '59,68,52,61', '59,68,54,63', '59,70', '60', '60,30', '60,44', '60,48', '60,51', '60,51,53,56', '60,51,65,68,56', '60,53', '60,54', '60,54,57,65,65', '60,55', '60,55,63', '60,55,65', '60,56', '60,56,53,63', '60,56,59,54,64', '60,56,62,65', '60,57,53,62', '60,57,53,64', '60,57,55,51', '60,57,55,64', '60,57,63,54', '60,57,65,54', '60,57,67,51', '60,62,65', '60,63', '60,63,54', '60,63,55', '60,63,68', '60,63,68,53,66', '60,63,77,53', '60,64', '60,64,71,55', '60,65', '60,65,68', '60,66,69', '60,67,52', '60,67,56,51', '60,67,58,63', '60,68', '60,68,51,56', '60,68,54,63', '60,68,56,51', '60,68,62', '60,68,63,53', '60,69', '60,69,53,62', '60,69,54,63', '60,69,55,64', '60,69,65,74', '60,70,55,63', '60,70,55,65', '61', '61,30,58,66,42', '61,37', '61,37,49', '61,52,56,58', '61,53,56,58', '61,54', '61,56,37,49', '61,56,37,54,49', '61,56,66,62', '61,58,55,63', '61,58,55,65', '61,60,55,65', '61,64,66', '61,64,71', '61,64,73', '61,65', '61,65,37,56,49', '61,65,56', '61,65,56,29,41', '61,65,60,68', '61,69', '61,69,54,64', '61,70,54,65', '61,70,55,63', '61,70,55,65', '61,71,56,66', '61,72,55,65', '61,73', '61,73,68', '61,75', '61,80', '62', '62,38,50', '62,50', '62,53,56,60', '62,56,60', '62,57,67,63', '62,58,51,55', '62,58,55,63', '62,58,55,65', '62,58,63,67', '62,58,65,51', '62,58,65,69', '62,59,53', '62,59,55,66', '62,59,57,65', '62,59,65,67', '62,59,67,65', '62,60,65', '62,60,65,68', '62,61,56,66', '62,63,58', '62,63,67', '62,64', '62,65', '62,65,58,69', '62,65,67,59', '62,65,69', '62,65,69,74', '62,65,71', '62,65,74', '62,66,71', '62,66,71,43,55', '62,66,71,47,57', '62,67', '62,67,74', '62,68,60,65', '62,68,69', '62,69', '62,69,54', '62,69,74', '62,70', '62,70,55,65', '62,70,65', '62,71,55,64', '62,71,55,66', '62,72,56,65', '62,72,69', '62,74', '63', '63,44,51,56,60,68,65', '63,46', '63,53', '63,53,68,59', '63,54', '63,54,60', '63,55,56,60', '63,55,58,61', '63,55,60', '63,55,67,60,74', '63,58,55', '63,58,62', '63,58,62,55', '63,58,66', '63,58,67', '63,59,53,68,68', '63,59,69,65', '63,59,74,57,67', '63,60', '63,60,53', '63,60,56,53', '63,60,57,65', '63,60,57,67', '63,61,57,66', '63,61,58,66', '63,62', '63,62,57,67', '63,62,58', '63,62,67,58', '63,66,58', '63,67,58,62', '63,68', '63,68,68,60,53', '63,69', '63,70', '63,71', '63,72,56,65', '63,72,56,67', '63,72,57,65', '63,72,57,67', '63,74,57,67', '63,74,60,70', '63,80', '64', '64,52', '64,54,57,60', '64,57', '64,58', '64,60', '64,65,69,76', '64,67', '64,67,76', '64,69', '64,69,73', '64,70', '64,70,73,76', '64,72', '64,73', '64,73,76', '64,76', '65', '65,29,61,56,41', '65,53,48', '65,56', '65,56,61', '65,57', '65,60', '65,60,53,56,66', '65,61,56', '65,61,58,56', '65,62', '65,62,60,56', '65,62,72,56', '65,63,59,69', '65,67', '65,69', '65,69,59', '65,69,60', '65,69,77', '65,70', '65,70,59,62', '65,70,74', '65,70,77', '65,72', '65,73,77', '65,74', '65,74,60', '65,75,59,68', '65,76', '65,77', '66', '66,34', '66,58,63', '66,59', '66,60', '66,62', '66,63,58', '66,65', '66,71', '67', '67,51,55,60', '67,51,58,62', '67,51,62,58', '67,52,60,58', '67,55,72', '67,58,51,60,63', '67,58,62', '67,58,62,63', '67,58,63', '67,59', '67,60,63', '67,61', '67,62,51,58', '67,62,60,56', '67,62,63,58', '67,62,65,71', '67,63', '67,63,58', '67,63,60', '67,63,62,58', '67,63,70', '67,64', '67,67,63,58,62', '67,70', '67,70,58,63', '67,70,63', '67,70,74,77', '67,71', '67,71,48,52', '67,73', '67,73,79', '67,74', '67,74,70,77', '67,74,77,70', '67,76', '67,79', '68', '68,44,51,56,60,63,65', '68,53', '68,53,60,63', '68,56', '68,56,53,62,77,59', '68,59,63', '68,60', '68,60,51,56,65', '68,60,61,65', '68,60,62,56,53', '68,60,62,65', '68,60,63,53', '68,60,65', '68,62', '68,62,56,53', '68,62,60', '68,63,60', '68,65', '68,68,63,53,60', '68,69', '68,71', '68,72', '69', '69,60', '69,62', '69,62,65', '69,63', '69,64', '69,65,61,54', '69,67', '69,71,72', '69,71,75', '69,73,77', '69,74', '69,74,81', '69,76', '69,77,62,81', '69,81', '70', '70,54,61,63', '70,54,61,65', '70,55,59,65', '70,59,55,65', '70,59,65,62', '70,61', '70,61,63,54', '70,62', '70,63', '70,63,67,51,74', '70,64', '70,65,59,62,68', '70,65,62', '70,68', '70,70', '70,74', '70,74,67,77', '70,74,77', '70,74,77,67', '70,75', '70,76', '70,77', '70,77,74', '70,79', '70,82', '71', '71,60', '71,62', '71,62,57,67,51', '71,62,65', '71,62,67', '71,62,68', '71,65,67', '71,65,67,62', '71,66', '72', '72,55,65,61', '72,56,65,63', '72,64', '72,67', '72,77', '72,84', '73', '73,60,66', '73,67', '73,68', '73,84', '73,85', '74', '74,63,60', '74,63,60,70', '74,64,71', '74,65', '74,65,56,62,71', '74,67,70,77', '74,67,77,70', '74,70,63,67,51', '74,70,67', '74,70,77', '74,71', '74,77', '74,77,81', '74,79,82', '74,79,83', '74,79,85', '74,79,86', '74,81', '74,82', '74,86', '75', '75,68', '75,69', '75,70,63,67', '75,78', '75,82,87', '76', '76,67', '76,88', '77', '77,74', '77,74,81', '77,81,69', '77,81,74', '77,82', '77,82,89', '77,85', '77,89', '78', '78,79', '78,85', '79', '79,70,74', '79,72,63', '79,83,74', '80', '80,73', '80,81', '81', '81,74,77', '81,74,77,57,62,65', '81,77,74', '81,82', '82', '82,89', '83', '83,81', '84', '85', '85,89', '86', '86,86,90', '87', '87,88', '88,84', '89', '90', '91', '92', '94', '95']"
   ]
  },
  {
   "cell_type": "markdown",
   "metadata": {},
   "source": [
    "## Append a Pitch List"
   ]
  },
  {
   "cell_type": "code",
   "execution_count": 3,
   "metadata": {},
   "outputs": [],
   "source": [
    "def append_notes(pitch_list, song_stream):\n",
    "    note_list = []\n",
    "    \n",
    "    # Convert all the pitches into music21 note objects\n",
    "    for pitch in pitch_list:\n",
    "        new_note = note.Note(int(pitch))\n",
    "        note_list.append(new_note)\n",
    "    \n",
    "    # If there is only oen note, append it as-is to the song\n",
    "    if len(note_list) == 1:\n",
    "        song_stream.append(note_list[0])\n",
    "    \n",
    "    # If there are multiple notes, organize them into a chord\n",
    "    else:\n",
    "        new_chord = chord.Chord(note_list)\n",
    "        song_stream.append(new_chord)"
   ]
  },
  {
   "cell_type": "markdown",
   "metadata": {},
   "source": [
    "## Generate a Random Song"
   ]
  },
  {
   "cell_type": "code",
   "execution_count": 4,
   "metadata": {},
   "outputs": [],
   "source": [
    "def generate_song(vocab, number_notes):\n",
    "    num_symbols = len(vocab)\n",
    "    \n",
    "    # Create a music21 stream object\n",
    "    song_stream = stream.Stream()\n",
    "    \n",
    "    # Add the specified number of notes to the song\n",
    "    for note in range(number_notes):\n",
    "        # Randomly select an index of the vocabulary\n",
    "        index = random.randint(0, num_symbols)\n",
    "        symbol = vocab[index]\n",
    "        \n",
    "        # Add the pitches to the steram\n",
    "        pitch_list = symbol.split(',')\n",
    "        append_notes(pitch_list, song_stream)\n",
    "    \n",
    "    return song_stream"
   ]
  },
  {
   "cell_type": "markdown",
   "metadata": {},
   "source": [
    "## Driver"
   ]
  },
  {
   "cell_type": "code",
   "execution_count": 7,
   "metadata": {},
   "outputs": [
    {
     "data": {
      "text/html": [
       "\n",
       "                <div id='midiPlayerDiv2019'></div>\n",
       "                <link rel=\"stylesheet\" href=\"//cuthbertLab.github.io/music21j/css/m21.css\"\n",
       "                    type=\"text/css\" />\n",
       "                <script>\n",
       "                require.config({\n",
       "                    paths: {'music21': '//cuthbertLab.github.io/music21j/src/music21'}\n",
       "                });\n",
       "                require(['music21'], function() {\n",
       "                               mp = new music21.miditools.MidiPlayer();\n",
       "                               mp.addPlayer('#midiPlayerDiv2019');\n",
       "                               mp.base64Load('data:audio/midi;base64,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');\n",
       "                        });\n",
       "                </script>"
      ],
      "text/plain": [
       "<IPython.core.display.HTML object>"
      ]
     },
     "metadata": {},
     "output_type": "display_data"
    },
    {
     "data": {
      "text/plain": [
       "'C:\\\\Users\\\\alext\\\\Downloads\\\\Random.mid'"
      ]
     },
     "execution_count": 7,
     "metadata": {},
     "output_type": "execute_result"
    }
   ],
   "source": [
    "# Convert the csv file to a stream\n",
    "song_stream = generate_song(vocab, 100)\n",
    "\n",
    "# Play the song\n",
    "song_stream.show('midi')\n",
    "\n",
    "# Export to a midi file\n",
    "song_stream.write('midi', fp='C:\\\\Users\\\\alext\\\\Downloads\\\\Random.mid')"
   ]
  }
 ],
 "metadata": {
  "kernelspec": {
   "display_name": "DeepLearning",
   "language": "python",
   "name": "deeplearning"
  },
  "language_info": {
   "codemirror_mode": {
    "name": "ipython",
    "version": 3
   },
   "file_extension": ".py",
   "mimetype": "text/x-python",
   "name": "python",
   "nbconvert_exporter": "python",
   "pygments_lexer": "ipython3",
   "version": "3.9.5"
  }
 },
 "nbformat": 4,
 "nbformat_minor": 4
}
