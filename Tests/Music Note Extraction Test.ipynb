{
 "cells": [
  {
   "cell_type": "code",
   "execution_count": 1,
   "metadata": {},
   "outputs": [],
   "source": [
    "# Music processing\n",
    "from music21 import *\n",
    "# Algorithms\n",
    "from itertools import takewhile\n",
    "# File management\n",
    "import os\n",
    "from glob import glob\n",
    "from pathlib import Path\n",
    "import csv"
   ]
  },
  {
   "cell_type": "markdown",
   "metadata": {},
   "source": [
    "## Settings"
   ]
  },
  {
   "cell_type": "code",
   "execution_count": 2,
   "metadata": {},
   "outputs": [],
   "source": [
    "# Set the path to training file directory\n",
    "corpus_path = 'C:\\\\Users\\\\alext\\\\Desktop\\\\School\\\\2021 Spring\\\\CS 271\\\\Final Project\\\\Feature Extraction\\\\Music Corpus'\n",
    "# Set the path to store the extracted features\n",
    "export_path = 'C:\\\\Users\\\\alext\\\\Desktop\\\\School\\\\2021 Spring\\\\CS 271\\\\Final Project\\\\Feature Extraction\\\\Music Features'"
   ]
  },
  {
   "cell_type": "markdown",
   "metadata": {},
   "source": [
    "## Convert Music Files Into Features"
   ]
  },
  {
   "cell_type": "code",
   "execution_count": 3,
   "metadata": {},
   "outputs": [],
   "source": [
    "def extract_features(path, file_name):\n",
    "    # Construct the full path of the music file\n",
    "    file_path = os.path.join(path, file_name);\n",
    "    # Parse the file and convert it into a stream object\n",
    "    score_stream = converter.parse(file_path)\n",
    "    # Get an iterator of all notes and chords in the score\n",
    "    note_stream = score_stream.flat.notes\n",
    "    # note_iter = stream.notesAndRests\n",
    "    \n",
    "    # An orderd list of the notes in the song\n",
    "    features = []\n",
    "    \n",
    "    # Keep looping through the stream until the end of the enumeration\n",
    "    for phrase in takewhile(lambda x: True, note_stream):\n",
    "        # A single note\n",
    "        if type(phrase) is note.Note:\n",
    "            features.append([phrase.pitch.midi])\n",
    "        # A chord\n",
    "        elif type(phrase) is chord.Chord:\n",
    "            pitches = phrase.pitches\n",
    "            midi_pitches = map(lambda x: x.midi, pitches)\n",
    "            features.append(list(midi_pitches))\n",
    "    \n",
    "    return features"
   ]
  },
  {
   "cell_type": "markdown",
   "metadata": {},
   "source": [
    "## Export a List of Features to a CSV File"
   ]
  },
  {
   "cell_type": "code",
   "execution_count": 4,
   "metadata": {},
   "outputs": [],
   "source": [
    "def export_features(path, file_name, features):\n",
    "    # Change the file extention\n",
    "    file_name = file_name[:-3] + 'csv'\n",
    "    # Construct the full path of the target feature file\n",
    "    file_path = os.path.join(path, file_name);\n",
    "    \n",
    "    # Write the features list to a csv file\n",
    "    with open(file_path, 'w') as feature_file:\n",
    "        write = csv.writer(feature_file)\n",
    "        write.writerows(features)"
   ]
  },
  {
   "cell_type": "markdown",
   "metadata": {},
   "source": [
    "## Extract Features from all Training Files"
   ]
  },
  {
   "cell_type": "code",
   "execution_count": 5,
   "metadata": {},
   "outputs": [
    {
     "ename": "FileNotFoundError",
     "evalue": "[WinError 2] The system cannot find the file specified: 'C:\\\\Users\\\\alext\\\\Desktop\\\\School\\\\2021 Spring\\\\CS 271\\\\Final Project\\\\Feature Extraction\\\\Music Corpus'",
     "output_type": "error",
     "traceback": [
      "\u001b[1;31m---------------------------------------------------------------------------\u001b[0m",
      "\u001b[1;31mFileNotFoundError\u001b[0m                         Traceback (most recent call last)",
      "\u001b[1;32m<ipython-input-5-7e37a7439b28>\u001b[0m in \u001b[0;36m<module>\u001b[1;34m\u001b[0m\n\u001b[0;32m      1\u001b[0m \u001b[1;31m# Go to the training file directory\u001b[0m\u001b[1;33m\u001b[0m\u001b[1;33m\u001b[0m\u001b[1;33m\u001b[0m\u001b[0m\n\u001b[1;32m----> 2\u001b[1;33m \u001b[0mos\u001b[0m\u001b[1;33m.\u001b[0m\u001b[0mchdir\u001b[0m\u001b[1;33m(\u001b[0m\u001b[0mcorpus_path\u001b[0m\u001b[1;33m)\u001b[0m\u001b[1;33m\u001b[0m\u001b[1;33m\u001b[0m\u001b[0m\n\u001b[0m\u001b[0;32m      3\u001b[0m \u001b[1;33m\u001b[0m\u001b[0m\n\u001b[0;32m      4\u001b[0m \u001b[1;31m# Get a list of all mxl files in the directory\u001b[0m\u001b[1;33m\u001b[0m\u001b[1;33m\u001b[0m\u001b[1;33m\u001b[0m\u001b[0m\n\u001b[0;32m      5\u001b[0m \u001b[0mmusic_files\u001b[0m \u001b[1;33m=\u001b[0m \u001b[0mglob\u001b[0m\u001b[1;33m(\u001b[0m\u001b[1;34m'*.mxl'\u001b[0m\u001b[1;33m)\u001b[0m \u001b[1;33m+\u001b[0m \u001b[0mglob\u001b[0m\u001b[1;33m(\u001b[0m\u001b[1;34m'*.mid'\u001b[0m\u001b[1;33m)\u001b[0m \u001b[1;33m+\u001b[0m \u001b[0mglob\u001b[0m\u001b[1;33m(\u001b[0m\u001b[1;34m'*.midi'\u001b[0m\u001b[1;33m)\u001b[0m\u001b[1;33m\u001b[0m\u001b[1;33m\u001b[0m\u001b[0m\n",
      "\u001b[1;31mFileNotFoundError\u001b[0m: [WinError 2] The system cannot find the file specified: 'C:\\\\Users\\\\alext\\\\Desktop\\\\School\\\\2021 Spring\\\\CS 271\\\\Final Project\\\\Feature Extraction\\\\Music Corpus'"
     ]
    }
   ],
   "source": [
    "# Go to the training file directory\n",
    "os.chdir(corpus_path)\n",
    "\n",
    "# Get a list of all mxl files in the directory\n",
    "music_files = glob('*.mxl') + glob('*.mid') + glob('*.midi')\n",
    "\n",
    "print(\"Extraxting...\")\n",
    "\n",
    "# Extract the features for each score\n",
    "for file_name in music_files:\n",
    "    features = extract_features(corpus_path, file_name)\n",
    "    export_features(export_path, file_name, features)\n",
    "    \n",
    "print(\"Finished\")"
   ]
  }
 ],
 "metadata": {
  "kernelspec": {
   "display_name": "DeepLearning",
   "language": "python",
   "name": "deeplearning"
  },
  "language_info": {
   "codemirror_mode": {
    "name": "ipython",
    "version": 3
   },
   "file_extension": ".py",
   "mimetype": "text/x-python",
   "name": "python",
   "nbconvert_exporter": "python",
   "pygments_lexer": "ipython3",
   "version": "3.9.5"
  }
 },
 "nbformat": 4,
 "nbformat_minor": 4
}
