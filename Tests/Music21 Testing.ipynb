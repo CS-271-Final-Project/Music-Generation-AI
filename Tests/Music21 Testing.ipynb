{
 "cells": [
  {
   "cell_type": "code",
   "execution_count": 1,
   "metadata": {
    "scrolled": true
   },
   "outputs": [],
   "source": [
    "from music21 import *"
   ]
  },
  {
   "cell_type": "markdown",
   "metadata": {},
   "source": [
    "## Parse a Music File"
   ]
  },
  {
   "cell_type": "code",
   "execution_count": 2,
   "metadata": {},
   "outputs": [
    {
     "name": "stdout",
     "output_type": "stream",
     "text": [
      "<music21.stream.Score 0x2a03d40bc40>\n",
      "a minor\n"
     ]
    }
   ],
   "source": [
    "s = corpus.parse('bach/bwv65.2.xml')\n",
    "\n",
    "# Print the type of s\n",
    "print(s)\n",
    "# Print the key of s\n",
    "print(s.analyze('key'))"
   ]
  },
  {
   "cell_type": "markdown",
   "metadata": {},
   "source": [
    "## View the Stream Object"
   ]
  },
  {
   "cell_type": "code",
   "execution_count": 3,
   "metadata": {},
   "outputs": [
    {
     "name": "stdout",
     "output_type": "stream",
     "text": [
      "{0.0} <music21.text.TextBox 'PDF © 2004...'>\n",
      "{0.0} <music21.text.TextBox 'BWV 65.2'>\n",
      "{0.0} <music21.metadata.Metadata object at 0x2a03d3dad60>\n",
      "{0.0} <music21.stream.Part Soprano>\n",
      "    {0.0} <music21.instrument.Instrument 'P1: Soprano: '>\n",
      "    {0.0} <music21.stream.Measure 0 offset=0.0>\n",
      "        {0.0} <music21.layout.SystemLayout>\n",
      "        {0.0} <music21.clef.TrebleClef>\n",
      "        {0.0} <music21.key.Key of C major>\n",
      "        {0.0} <music21.meter.TimeSignature 3/4>\n",
      "        {0.0} <music21.note.Note A>\n",
      "    {1.0} <music21.stream.Measure 1 offset=1.0>\n",
      "        {0.0} <music21.note.Note A>\n",
      "        {2.0} <music21.note.Note A>\n",
      "    {4.0} <music21.stream.Measure 2 offset=4.0>\n",
      "        {0.0} <music21.note.Note B>\n",
      "        {2.0} <music21.note.Note B>\n",
      "    {7.0} <music21.stream.Measure 3 offset=7.0>\n",
      "        {0.0} <music21.note.Note C>\n",
      "        {1.0} <music21.note.Note B>\n",
      "        {2.0} <music21.note.Note A>\n",
      "    {10.0} <music21.stream.Measure 4 offset=10.0>\n",
      "        {0.0} <music21.note.Note G>\n",
      "    {13.0} <music21.stream.Measure 5 offset=13.0>\n",
      "        {0.0} <music21.note.Note C>\n",
      "        {2.0} <music21.note.Note D>\n",
      "    {16.0} <music21.stream.Measure 6 offset=16.0>\n",
      "        {0.0} <music21.note.Note C>\n",
      "        {2.0} <music21.note.Note B>\n",
      "    {19.0} <music21.stream.Measure 7 offset=19.0>\n",
      "        {0.0} <music21.note.Note C>\n",
      "        {2.0} <music21.note.Note C>\n",
      "    {22.0} <music21.stream.Measure 8 offset=22.0>\n",
      "        {0.0} <music21.note.Note C>\n",
      "        {2.0} <music21.note.Note C>\n",
      "    {25.0} <music21.stream.Measure 9 offset=25.0>\n",
      "        {0.0} <music21.layout.SystemLayout>\n",
      "        {0.0} <music21.note.Note B>\n",
      "        {2.0} <music21.note.Note A>\n",
      "    {28.0} <music21.stream.Measure 10 offset=28.0>\n",
      "        {0.0} <music21.note.Note A>\n",
      "        {1.0} <music21.note.Note B>\n",
      "        {2.0} <music21.note.Note G#>\n",
      "    {31.0} <music21.stream.Measure 11 offset=31.0>\n",
      "        {0.0} <music21.note.Note A>\n",
      "        {2.0} <music21.note.Note A>\n",
      "    {34.0} <music21.stream.Measure 12 offset=34.0>\n",
      "        {0.0} <music21.note.Note G>\n",
      "        {2.0} <music21.note.Note A>\n",
      "    {37.0} <music21.stream.Measure 13 offset=37.0>\n",
      "        {0.0} <music21.note.Note B>\n",
      "        {2.0} <music21.note.Note B>\n",
      "    {40.0} <music21.stream.Measure 14 offset=40.0>\n",
      "        {0.0} <music21.note.Note C>\n",
      "        {2.0} <music21.note.Note B>\n",
      "    {43.0} <music21.stream.Measure 15 offset=43.0>\n",
      "        {0.0} <music21.note.Note A>\n",
      "        {2.0} <music21.note.Note G#>\n",
      "    {46.0} <music21.stream.Measure 16 offset=46.0>\n",
      "        {0.0} <music21.note.Note A>\n",
      "        {2.0} <music21.bar.Barline type=final>\n",
      "{0.0} <music21.stream.Part Alto>\n",
      "    {0.0} <music21.instrument.Instrument 'P2: Alto: '>\n",
      "    {0.0} <music21.stream.Measure 0 offset=0.0>\n",
      "        {0.0} <music21.layout.SystemLayout>\n",
      "        {0.0} <music21.layout.StaffLayout distance 130, staffNumber 1, staffSize None, staffLines None>\n",
      "        {0.0} <music21.clef.TrebleClef>\n",
      "        {0.0} <music21.key.KeySignature of no sharps or flats>\n",
      "        {0.0} <music21.meter.TimeSignature 3/4>\n",
      "        {0.0} <music21.note.Note E>\n",
      "    {1.0} <music21.stream.Measure 1 offset=1.0>\n",
      "        {0.0} <music21.note.Note E>\n",
      "        {2.0} <music21.note.Note A>\n",
      "    {4.0} <music21.stream.Measure 2 offset=4.0>\n",
      "        {0.0} <music21.note.Note G>\n",
      "        {2.0} <music21.note.Note G>\n",
      "    {7.0} <music21.stream.Measure 3 offset=7.0>\n",
      "        {0.0} <music21.note.Note G>\n",
      "        {2.0} <music21.note.Note F>\n",
      "    {10.0} <music21.stream.Measure 4 offset=10.0>\n",
      "        {0.0} <music21.note.Note E>\n",
      "    {13.0} <music21.stream.Measure 5 offset=13.0>\n",
      "        {0.0} <music21.note.Note G>\n",
      "        {2.0} <music21.note.Note G#>\n",
      "    {16.0} <music21.stream.Measure 6 offset=16.0>\n",
      "        {0.0} <music21.note.Note A>\n",
      "        {2.0} <music21.note.Note G>\n",
      "    {19.0} <music21.stream.Measure 7 offset=19.0>\n",
      "        {0.0} <music21.note.Note G>\n",
      "        {2.0} <music21.note.Note G>\n",
      "    {22.0} <music21.stream.Measure 8 offset=22.0>\n",
      "        {0.0} <music21.note.Note A>\n",
      "        {2.0} <music21.note.Note F#>\n",
      "    {25.0} <music21.stream.Measure 9 offset=25.0>\n",
      "        {0.0} <music21.layout.SystemLayout>\n",
      "        {0.0} <music21.layout.StaffLayout distance 130, staffNumber 1, staffSize None, staffLines None>\n",
      "        {0.0} <music21.note.Note G>\n",
      "        {2.0} <music21.note.Note G>\n",
      "    {28.0} <music21.stream.Measure 10 offset=28.0>\n",
      "        {0.0} <music21.note.Note G>\n",
      "        {1.0} <music21.note.Note F#>\n",
      "        {2.0} <music21.note.Note E>\n",
      "    {31.0} <music21.stream.Measure 11 offset=31.0>\n",
      "        {0.0} <music21.note.Note E>\n",
      "        {2.0} <music21.note.Note D>\n",
      "    {34.0} <music21.stream.Measure 12 offset=34.0>\n",
      "        {0.0} <music21.note.Note D>\n",
      "        {1.0} <music21.note.Note E>\n",
      "        {2.0} <music21.note.Note D>\n",
      "    {37.0} <music21.stream.Measure 13 offset=37.0>\n",
      "        {0.0} <music21.note.Note D>\n",
      "        {2.0} <music21.note.Note F>\n",
      "    {40.0} <music21.stream.Measure 14 offset=40.0>\n",
      "        {0.0} <music21.note.Note E>\n",
      "        {1.0} <music21.note.Note F>\n",
      "        {2.0} <music21.note.Note G>\n",
      "    {43.0} <music21.stream.Measure 15 offset=43.0>\n",
      "        {0.0} <music21.note.Note G>\n",
      "        {1.0} <music21.note.Note F#>\n",
      "        {2.0} <music21.note.Note E>\n",
      "    {46.0} <music21.stream.Measure 16 offset=46.0>\n",
      "        {0.0} <music21.note.Note E>\n",
      "        {2.0} <music21.bar.Barline type=final>\n",
      "{0.0} <music21.stream.Part Tenor>\n",
      "    {0.0} <music21.instrument.Instrument 'P3: Tenor: '>\n",
      "    {0.0} <music21.stream.Measure 0 offset=0.0>\n",
      "        {0.0} <music21.layout.SystemLayout>\n",
      "        {0.0} <music21.layout.StaffLayout distance 130, staffNumber 1, staffSize None, staffLines None>\n",
      "        {0.0} <music21.clef.BassClef>\n",
      "        {0.0} <music21.key.KeySignature of no sharps or flats>\n",
      "        {0.0} <music21.meter.TimeSignature 3/4>\n",
      "        {0.0} <music21.note.Note C>\n",
      "    {1.0} <music21.stream.Measure 1 offset=1.0>\n",
      "        {0.0} <music21.note.Note C>\n",
      "        {2.0} <music21.note.Note D>\n",
      "    {4.0} <music21.stream.Measure 2 offset=4.0>\n",
      "        {0.0} <music21.note.Note D>\n",
      "        {2.0} <music21.note.Note D>\n",
      "    {7.0} <music21.stream.Measure 3 offset=7.0>\n",
      "        {0.0} <music21.note.Note C>\n",
      "        {1.0} <music21.note.Note E>\n",
      "        {2.0} <music21.note.Note C>\n",
      "    {10.0} <music21.stream.Measure 4 offset=10.0>\n",
      "        {0.0} <music21.note.Note C>\n",
      "    {13.0} <music21.stream.Measure 5 offset=13.0>\n",
      "        {0.0} <music21.note.Note E>\n",
      "    {16.0} <music21.stream.Measure 6 offset=16.0>\n",
      "        {0.0} <music21.note.Note E>\n",
      "        {1.0} <music21.note.Note D>\n",
      "        {2.0} <music21.note.Note D>\n",
      "    {19.0} <music21.stream.Measure 7 offset=19.0>\n",
      "        {0.0} <music21.note.Note E>\n",
      "        {2.0} <music21.note.Note E>\n",
      "    {22.0} <music21.stream.Measure 8 offset=22.0>\n",
      "        {0.0} <music21.note.Note E>\n",
      "        {1.0} <music21.note.Note D>\n",
      "        {2.0} <music21.note.Note D>\n",
      "    {25.0} <music21.stream.Measure 9 offset=25.0>\n",
      "        {0.0} <music21.layout.SystemLayout>\n",
      "        {0.0} <music21.layout.StaffLayout distance 130, staffNumber 1, staffSize None, staffLines None>\n",
      "        {0.0} <music21.note.Note D>\n",
      "        {1.0} <music21.note.Note E>\n",
      "        {2.0} <music21.note.Note E>\n",
      "    {28.0} <music21.stream.Measure 10 offset=28.0>\n",
      "        {0.0} <music21.note.Note D>\n",
      "        {1.0} <music21.note.Note B>\n",
      "        {2.0} <music21.note.Note B>\n",
      "    {31.0} <music21.stream.Measure 11 offset=31.0>\n",
      "        {0.0} <music21.note.Note C>\n",
      "        {2.0} <music21.note.Note A>\n",
      "    {34.0} <music21.stream.Measure 12 offset=34.0>\n",
      "        {0.0} <music21.note.Note B>\n",
      "        {1.0} <music21.note.Note C>\n",
      "        {2.0} <music21.note.Note A>\n",
      "    {37.0} <music21.stream.Measure 13 offset=37.0>\n",
      "        {0.0} <music21.note.Note G>\n",
      "        {1.0} <music21.note.Note B>\n",
      "        {2.0} <music21.note.Note D>\n",
      "    {40.0} <music21.stream.Measure 14 offset=40.0>\n",
      "        {0.0} <music21.note.Note C>\n",
      "        {1.0} <music21.note.Note D>\n",
      "    {43.0} <music21.stream.Measure 15 offset=43.0>\n",
      "        {0.0} <music21.note.Note C>\n",
      "        {2.0} <music21.note.Note B>\n",
      "    {46.0} <music21.stream.Measure 16 offset=46.0>\n",
      "        {0.0} <music21.note.Note C#>\n",
      "        {2.0} <music21.bar.Barline type=final>\n",
      "{0.0} <music21.stream.Part Bass>\n",
      "    {0.0} <music21.instrument.Instrument 'P4: Bass: '>\n",
      "    {0.0} <music21.stream.Measure 0 offset=0.0>\n",
      "        {0.0} <music21.layout.SystemLayout>\n",
      "        {0.0} <music21.layout.StaffLayout distance 130, staffNumber 1, staffSize None, staffLines None>\n",
      "        {0.0} <music21.clef.BassClef>\n",
      "        {0.0} <music21.key.KeySignature of no sharps or flats>\n",
      "        {0.0} <music21.meter.TimeSignature 3/4>\n",
      "        {0.0} <music21.note.Note A>\n",
      "    {1.0} <music21.stream.Measure 1 offset=1.0>\n",
      "        {0.0} <music21.note.Note A>\n",
      "        {1.0} <music21.note.Note G>\n",
      "        {2.0} <music21.note.Note F#>\n",
      "    {4.0} <music21.stream.Measure 2 offset=4.0>\n",
      "        {0.0} <music21.note.Note G>\n",
      "        {1.0} <music21.note.Note D>\n",
      "        {2.0} <music21.note.Note F>\n",
      "    {7.0} <music21.stream.Measure 3 offset=7.0>\n",
      "        {0.0} <music21.note.Note E>\n",
      "        {1.0} <music21.note.Note C>\n",
      "        {2.0} <music21.note.Note F>\n",
      "    {10.0} <music21.stream.Measure 4 offset=10.0>\n",
      "        {0.0} <music21.note.Note C>\n",
      "    {13.0} <music21.stream.Measure 5 offset=13.0>\n",
      "        {0.0} <music21.note.Note C>\n",
      "        {1.0} <music21.note.Note C>\n",
      "        {2.0} <music21.note.Note B>\n",
      "    {16.0} <music21.stream.Measure 6 offset=16.0>\n",
      "        {0.0} <music21.note.Note A>\n",
      "        {1.0} <music21.note.Note F#>\n",
      "        {2.0} <music21.note.Note G>\n",
      "    {19.0} <music21.stream.Measure 7 offset=19.0>\n",
      "        {0.0} <music21.note.Note C>\n",
      "        {2.0} <music21.note.Note C>\n",
      "    {22.0} <music21.stream.Measure 8 offset=22.0>\n",
      "        {0.0} <music21.note.Note A>\n",
      "        {1.0} <music21.note.Note F#>\n",
      "        {2.0} <music21.note.Note D>\n",
      "    {25.0} <music21.stream.Measure 9 offset=25.0>\n",
      "        {0.0} <music21.layout.SystemLayout>\n",
      "        {0.0} <music21.layout.StaffLayout distance 130, staffNumber 1, staffSize None, staffLines None>\n",
      "        {0.0} <music21.note.Note G>\n",
      "        {1.0} <music21.note.Note E>\n",
      "        {2.0} <music21.note.Note C#>\n",
      "    {28.0} <music21.stream.Measure 10 offset=28.0>\n",
      "        {0.0} <music21.note.Note D>\n",
      "        {1.0} <music21.note.Note D#>\n",
      "        {2.0} <music21.note.Note E>\n",
      "    {31.0} <music21.stream.Measure 11 offset=31.0>\n",
      "        {0.0} <music21.note.Note A>\n",
      "        {2.0} <music21.note.Note F>\n",
      "    {34.0} <music21.stream.Measure 12 offset=34.0>\n",
      "        {0.0} <music21.note.Note F>\n",
      "        {1.0} <music21.note.Note E>\n",
      "        {2.0} <music21.note.Note F#>\n",
      "    {37.0} <music21.stream.Measure 13 offset=37.0>\n",
      "        {0.0} <music21.note.Note G>\n",
      "        {1.0} <music21.note.Note F#>\n",
      "        {2.0} <music21.note.Note G#>\n",
      "    {40.0} <music21.stream.Measure 14 offset=40.0>\n",
      "        {0.0} <music21.note.Note A>\n",
      "        {1.0} <music21.note.Note D>\n",
      "        {2.0} <music21.note.Note E>\n",
      "    {43.0} <music21.stream.Measure 15 offset=43.0>\n",
      "        {0.0} <music21.note.Note F>\n",
      "        {1.0} <music21.note.Note D#>\n",
      "        {2.0} <music21.note.Note E>\n",
      "    {46.0} <music21.stream.Measure 16 offset=46.0>\n",
      "        {0.0} <music21.note.Note A>\n",
      "        {2.0} <music21.bar.Barline type=final>\n",
      "{0.0} <music21.layout.ScoreLayout>\n",
      "{0.0} <music21.layout.StaffGroup <music21.stream.Part Soprano><music21.stream.Part Alto><music21.stream.Part Tenor><music21.stream.Part Bass>>\n"
     ]
    }
   ],
   "source": [
    "s.show('text')"
   ]
  },
  {
   "cell_type": "markdown",
   "metadata": {},
   "source": [
    "## Flattened the Score"
   ]
  },
  {
   "cell_type": "code",
   "execution_count": 4,
   "metadata": {},
   "outputs": [
    {
     "name": "stdout",
     "output_type": "stream",
     "text": [
      "{0.0} <music21.text.TextBox 'PDF © 2004...'>\n",
      "{0.0} <music21.text.TextBox 'BWV 65.2'>\n",
      "{0.0} <music21.metadata.Metadata object at 0x2a03d3dad60>\n",
      "{0.0} <music21.instrument.Instrument 'P1: Soprano: '>\n",
      "{0.0} <music21.instrument.Instrument 'P2: Alto: '>\n",
      "{0.0} <music21.instrument.Instrument 'P3: Tenor: '>\n",
      "{0.0} <music21.instrument.Instrument 'P4: Bass: '>\n",
      "{0.0} <music21.layout.SystemLayout>\n",
      "{0.0} <music21.layout.SystemLayout>\n",
      "{0.0} <music21.layout.StaffLayout distance 130, staffNumber 1, staffSize None, staffLines None>\n",
      "{0.0} <music21.layout.SystemLayout>\n",
      "{0.0} <music21.layout.StaffLayout distance 130, staffNumber 1, staffSize None, staffLines None>\n",
      "{0.0} <music21.layout.SystemLayout>\n",
      "{0.0} <music21.layout.StaffLayout distance 130, staffNumber 1, staffSize None, staffLines None>\n",
      "{0.0} <music21.layout.ScoreLayout>\n",
      "{0.0} <music21.clef.TrebleClef>\n",
      "{0.0} <music21.clef.TrebleClef>\n",
      "{0.0} <music21.clef.BassClef>\n",
      "{0.0} <music21.clef.BassClef>\n",
      "{0.0} <music21.key.Key of C major>\n",
      "{0.0} <music21.key.KeySignature of no sharps or flats>\n",
      "{0.0} <music21.key.KeySignature of no sharps or flats>\n",
      "{0.0} <music21.key.KeySignature of no sharps or flats>\n",
      "{0.0} <music21.meter.TimeSignature 3/4>\n",
      "{0.0} <music21.meter.TimeSignature 3/4>\n",
      "{0.0} <music21.meter.TimeSignature 3/4>\n",
      "{0.0} <music21.meter.TimeSignature 3/4>\n",
      "{0.0} <music21.note.Note A>\n",
      "{0.0} <music21.note.Note E>\n",
      "{0.0} <music21.note.Note C>\n",
      "{0.0} <music21.note.Note A>\n",
      "{0.0} <music21.layout.StaffGroup <music21.stream.Part Soprano><music21.stream.Part Alto><music21.stream.Part Tenor><music21.stream.Part Bass>>\n",
      "{1.0} <music21.note.Note A>\n",
      "{1.0} <music21.note.Note E>\n",
      "{1.0} <music21.note.Note C>\n",
      "{1.0} <music21.note.Note A>\n",
      "{2.0} <music21.note.Note G>\n",
      "{3.0} <music21.note.Note A>\n",
      "{3.0} <music21.note.Note A>\n",
      "{3.0} <music21.note.Note D>\n",
      "{3.0} <music21.note.Note F#>\n",
      "{4.0} <music21.note.Note B>\n",
      "{4.0} <music21.note.Note G>\n",
      "{4.0} <music21.note.Note D>\n",
      "{4.0} <music21.note.Note G>\n",
      "{5.0} <music21.note.Note D>\n",
      "{6.0} <music21.note.Note B>\n",
      "{6.0} <music21.note.Note G>\n",
      "{6.0} <music21.note.Note D>\n",
      "{6.0} <music21.note.Note F>\n",
      "{7.0} <music21.note.Note C>\n",
      "{7.0} <music21.note.Note G>\n",
      "{7.0} <music21.note.Note C>\n",
      "{7.0} <music21.note.Note E>\n",
      "{8.0} <music21.note.Note B>\n",
      "{8.0} <music21.note.Note E>\n",
      "{8.0} <music21.note.Note C>\n",
      "{9.0} <music21.note.Note A>\n",
      "{9.0} <music21.note.Note F>\n",
      "{9.0} <music21.note.Note C>\n",
      "{9.0} <music21.note.Note F>\n",
      "{10.0} <music21.note.Note G>\n",
      "{10.0} <music21.note.Note E>\n",
      "{10.0} <music21.note.Note C>\n",
      "{10.0} <music21.note.Note C>\n",
      "{13.0} <music21.note.Note C>\n",
      "{13.0} <music21.note.Note G>\n",
      "{13.0} <music21.note.Note E>\n",
      "{13.0} <music21.note.Note C>\n",
      "{14.0} <music21.note.Note C>\n",
      "{15.0} <music21.note.Note D>\n",
      "{15.0} <music21.note.Note G#>\n",
      "{15.0} <music21.note.Note B>\n",
      "{16.0} <music21.note.Note C>\n",
      "{16.0} <music21.note.Note A>\n",
      "{16.0} <music21.note.Note E>\n",
      "{16.0} <music21.note.Note A>\n",
      "{17.0} <music21.note.Note D>\n",
      "{17.0} <music21.note.Note F#>\n",
      "{18.0} <music21.note.Note B>\n",
      "{18.0} <music21.note.Note G>\n",
      "{18.0} <music21.note.Note D>\n",
      "{18.0} <music21.note.Note G>\n",
      "{19.0} <music21.note.Note C>\n",
      "{19.0} <music21.note.Note G>\n",
      "{19.0} <music21.note.Note E>\n",
      "{19.0} <music21.note.Note C>\n",
      "{21.0} <music21.note.Note C>\n",
      "{21.0} <music21.note.Note G>\n",
      "{21.0} <music21.note.Note E>\n",
      "{21.0} <music21.note.Note C>\n",
      "{22.0} <music21.note.Note C>\n",
      "{22.0} <music21.note.Note A>\n",
      "{22.0} <music21.note.Note E>\n",
      "{22.0} <music21.note.Note A>\n",
      "{23.0} <music21.note.Note D>\n",
      "{23.0} <music21.note.Note F#>\n",
      "{24.0} <music21.note.Note C>\n",
      "{24.0} <music21.note.Note F#>\n",
      "{24.0} <music21.note.Note D>\n",
      "{24.0} <music21.note.Note D>\n",
      "{25.0} <music21.layout.SystemLayout>\n",
      "{25.0} <music21.layout.SystemLayout>\n",
      "{25.0} <music21.layout.StaffLayout distance 130, staffNumber 1, staffSize None, staffLines None>\n",
      "{25.0} <music21.layout.SystemLayout>\n",
      "{25.0} <music21.layout.StaffLayout distance 130, staffNumber 1, staffSize None, staffLines None>\n",
      "{25.0} <music21.layout.SystemLayout>\n",
      "{25.0} <music21.layout.StaffLayout distance 130, staffNumber 1, staffSize None, staffLines None>\n",
      "{25.0} <music21.note.Note B>\n",
      "{25.0} <music21.note.Note G>\n",
      "{25.0} <music21.note.Note D>\n",
      "{25.0} <music21.note.Note G>\n",
      "{26.0} <music21.note.Note E>\n",
      "{26.0} <music21.note.Note E>\n",
      "{27.0} <music21.note.Note A>\n",
      "{27.0} <music21.note.Note G>\n",
      "{27.0} <music21.note.Note E>\n",
      "{27.0} <music21.note.Note C#>\n",
      "{28.0} <music21.note.Note A>\n",
      "{28.0} <music21.note.Note G>\n",
      "{28.0} <music21.note.Note D>\n",
      "{28.0} <music21.note.Note D>\n",
      "{29.0} <music21.note.Note B>\n",
      "{29.0} <music21.note.Note F#>\n",
      "{29.0} <music21.note.Note B>\n",
      "{29.0} <music21.note.Note D#>\n",
      "{30.0} <music21.note.Note G#>\n",
      "{30.0} <music21.note.Note E>\n",
      "{30.0} <music21.note.Note B>\n",
      "{30.0} <music21.note.Note E>\n",
      "{31.0} <music21.note.Note A>\n",
      "{31.0} <music21.note.Note E>\n",
      "{31.0} <music21.note.Note C>\n",
      "{31.0} <music21.note.Note A>\n",
      "{33.0} <music21.note.Note A>\n",
      "{33.0} <music21.note.Note D>\n",
      "{33.0} <music21.note.Note A>\n",
      "{33.0} <music21.note.Note F>\n",
      "{34.0} <music21.note.Note G>\n",
      "{34.0} <music21.note.Note D>\n",
      "{34.0} <music21.note.Note B>\n",
      "{34.0} <music21.note.Note F>\n",
      "{35.0} <music21.note.Note E>\n",
      "{35.0} <music21.note.Note C>\n",
      "{35.0} <music21.note.Note E>\n",
      "{36.0} <music21.note.Note A>\n",
      "{36.0} <music21.note.Note D>\n",
      "{36.0} <music21.note.Note A>\n",
      "{36.0} <music21.note.Note F#>\n",
      "{37.0} <music21.note.Note B>\n",
      "{37.0} <music21.note.Note D>\n",
      "{37.0} <music21.note.Note G>\n",
      "{37.0} <music21.note.Note G>\n",
      "{38.0} <music21.note.Note B>\n",
      "{38.0} <music21.note.Note F#>\n",
      "{39.0} <music21.note.Note B>\n",
      "{39.0} <music21.note.Note F>\n",
      "{39.0} <music21.note.Note D>\n",
      "{39.0} <music21.note.Note G#>\n",
      "{40.0} <music21.note.Note C>\n",
      "{40.0} <music21.note.Note E>\n",
      "{40.0} <music21.note.Note C>\n",
      "{40.0} <music21.note.Note A>\n",
      "{41.0} <music21.note.Note F>\n",
      "{41.0} <music21.note.Note D>\n",
      "{41.0} <music21.note.Note D>\n",
      "{42.0} <music21.note.Note B>\n",
      "{42.0} <music21.note.Note G>\n",
      "{42.0} <music21.note.Note E>\n",
      "{43.0} <music21.note.Note A>\n",
      "{43.0} <music21.note.Note G>\n",
      "{43.0} <music21.note.Note C>\n",
      "{43.0} <music21.note.Note F>\n",
      "{44.0} <music21.note.Note F#>\n",
      "{44.0} <music21.note.Note D#>\n",
      "{45.0} <music21.note.Note G#>\n",
      "{45.0} <music21.note.Note E>\n",
      "{45.0} <music21.note.Note B>\n",
      "{45.0} <music21.note.Note E>\n",
      "{46.0} <music21.note.Note A>\n",
      "{46.0} <music21.note.Note E>\n",
      "{46.0} <music21.note.Note C#>\n",
      "{46.0} <music21.note.Note A>\n",
      "{48.0} <music21.bar.Barline type=final>\n",
      "{48.0} <music21.bar.Barline type=final>\n",
      "{48.0} <music21.bar.Barline type=final>\n",
      "{48.0} <music21.bar.Barline type=final>\n"
     ]
    }
   ],
   "source": [
    "s.flat.show('text')"
   ]
  },
  {
   "cell_type": "markdown",
   "metadata": {},
   "source": [
    "## Notes of First Part"
   ]
  },
  {
   "cell_type": "code",
   "execution_count": 5,
   "metadata": {
    "scrolled": false
   },
   "outputs": [
    {
     "data": {
      "image/png": "[encoded data removed]",
      "text/plain": [
       "<Figure size 720x432 with 1 Axes>"
      ]
     },
     "metadata": {
      "image/png": {
       "height": 382,
       "width": 584
      }
     },
     "output_type": "display_data"
    }
   ],
   "source": [
    "s.parts[0].plot()"
   ]
  },
  {
   "cell_type": "markdown",
   "metadata": {},
   "source": [
    "## Notes of All Parts"
   ]
  },
  {
   "cell_type": "code",
   "execution_count": 6,
   "metadata": {},
   "outputs": [
    {
     "data": {
      "image/png": "[encoded data removed]",
      "text/plain": [
       "<Figure size 720x432 with 1 Axes>"
      ]
     },
     "metadata": {
      "image/png": {
       "height": 382,
       "width": 584
      }
     },
     "output_type": "display_data"
    }
   ],
   "source": [
    "s.flat.plot()"
   ]
  },
  {
   "cell_type": "markdown",
   "metadata": {},
   "source": [
    "## Number of notes"
   ]
  },
  {
   "cell_type": "code",
   "execution_count": 7,
   "metadata": {},
   "outputs": [
    {
     "name": "stdout",
     "output_type": "stream",
     "text": [
      "40\n"
     ]
    }
   ],
   "source": [
    "print(len(s.parts[0].flat.elements))"
   ]
  },
  {
   "cell_type": "markdown",
   "metadata": {},
   "source": [
    "## Play the file"
   ]
  },
  {
   "cell_type": "code",
   "execution_count": 8,
   "metadata": {},
   "outputs": [
    {
     "data": {
      "text/html": [
       "\n",
       "                <div id='midiPlayerDiv4104'></div>\n",
       "                <link rel=\"stylesheet\" href=\"//cuthbertLab.github.io/music21j/css/m21.css\"\n",
       "                    type=\"text/css\" />\n",
       "                <script>\n",
       "                require.config({\n",
       "                    paths: {'music21': '//cuthbertLab.github.io/music21j/src/music21'}\n",
       "                });\n",
       "                require(['music21'], function() {\n",
       "                               mp = new music21.miditools.MidiPlayer();\n",
       "                               mp.addPlayer('#midiPlayerDiv4104');\n",
       "                               mp.base64Load('data:audio/midi;base64,TVRoZAAAAAYAAQAFBABNVHJrAAAAGgD/UQMHoSAA/1kCAAAA/1gEAwIYCIgA/y8ATVRyawAAAUEA/wMHU29wcmFubwDgAEAAwACIAJBFWogAgEUAAJBFWpAAgEUAAJBFWogAgEUAAJBHWpAAgEcAAJBHWogAgEcAAJBIWogAgEgAAJBHWogAgEcAAJBFWogAgEUAAJBDWpgAgEMAAJBIWpAAgEgAAJBKWogAgEoAAJBIWpAAgEgAAJBHWogAgEcAAJBIWpAAgEgAAJBIWogAgEgAAJBIWpAAgEgAAJBIWogAgEgAAJBHWpAAgEcAAJBFWogAgEUAAJBFWogAgEUAAJBHWogAgEcAAJBEWogAgEQAAJBFWpAAgEUAAJBFWogAgEUAAJBDWpAAgEMAAJBFWogAgEUAAJBHWpAAgEcAAJBHWogAgEcAAJBIWpAAgEgAAJBHWogAgEcAAJBFWpAAgEUAAJBEWogAgEQAAJBFWpAAgEUAiAD/LwBNVHJrAAABPgD/AwRBbHRvAOAAQADAAIgAkEBaiACAQAAAkEBakACAQAAAkEVaiACARQAAkENakACAQwAAkENaiACAQwAAkENakACAQwAAkEFaiACAQQAAkEBamACAQAAAkENakACAQwAAkERaiACARAAAkEVakACARQAAkENaiACAQwAAkENakACAQwAAkENaiACAQwAAkEVakACARQAAkEJaiACAQgAAkENakACAQwAAkENakACAQwAAkEJaiACAQgAAkEBaiACAQAAAkEBakACAQAAAkD5aiACAPgAAkD5aiACAPgAAkEBaiACAQAAAkD5aiACAPgAAkD5akACAPgAAkEFaiACAQQAAkEBaiACAQAAAkEFaiACAQQAAkENakACAQwAAkEJaiACAQgAAkEBaiACAQAAAkEBakACAQACIAP8vAE1UcmsAAAFaAP8DBVRlbm9yAOAAQADAAIgAkDxaiACAPAAAkDxakACAPAAAkD5aiACAPgAAkD5akACAPgAAkD5aiACAPgAAkDxaiACAPAAAkEBaiACAQAAAkDxaiACAPAAAkDxamACAPAAAkEBaoACAQAAAkD5aiACAPgAAkD5aiACAPgAAkEBakACAQAAAkEBaiACAQAAAkEBaiACAQAAAkD5aiACAPgAAkD5aiACAPgAAkD5aiACAPgAAkEBaiACAQAAAkEBaiACAQAAAkD5aiACAPgAAkDtaiACAOwAAkDtaiACAOwAAkDxakACAPAAAkDlaiACAOQAAkDtaiACAOwAAkDxaiACAPAAAkDlaiACAOQAAkDdaiACANwAAkDtaiACAOwAAkD5aiACAPgAAkDxaiACAPAAAkD5akACAPgAAkDxakACAPAAAkDtaiACAOwAAkD1akACAPQCIAP8vAE1UcmsAAAGPAP8DBEJhc3MA4ABAAMAAiACQLVqIAIAtAACQOVqIAIA5AACQN1qIAIA3AACQNlqIAIA2AACQN1qIAIA3AACQMlqIAIAyAACQNVqIAIA1AACQNFqIAIA0AACQMFqIAIAwAACQNVqIAIA1AACQMFqYAIAwAACQMFqIAIAwAACQPFqIAIA8AACQO1qIAIA7AACQOVqIAIA5AACQNlqIAIA2AACQN1qIAIA3AACQMFqQAIAwAACQPFqIAIA8AACQOVqIAIA5AACQNlqIAIA2AACQMlqIAIAyAACQN1qIAIA3AACQNFqIAIA0AACQMVqIAIAxAACQMlqIAIAyAACQM1qIAIAzAACQNFqIAIA0AACQLVqQAIAtAACQNVqQAIA1AACQNFqIAIA0AACQNlqIAIA2AACQN1qIAIA3AACQNlqIAIA2AACQOFqIAIA4AACQOVqIAIA5AACQMlqIAIAyAACQNFqIAIA0AACQNVqIAIA1AACQM1qIAIAzAACQNFqIAIA0AACQLVqQAIAtAIgA/y8A');\n",
       "                        });\n",
       "                </script>"
      ],
      "text/plain": [
       "<IPython.core.display.HTML object>"
      ]
     },
     "metadata": {},
     "output_type": "display_data"
    }
   ],
   "source": [
    "s.show('midi')"
   ]
  },
  {
   "cell_type": "markdown",
   "metadata": {},
   "source": [
    "## Test Note Object"
   ]
  },
  {
   "cell_type": "code",
   "execution_count": 9,
   "metadata": {},
   "outputs": [
    {
     "name": "stdout",
     "output_type": "stream",
     "text": [
      "<music21.note.Note B->\n",
      "Note Name: B-4\n",
      "Note MIDI Code:  70\n",
      "Note Duration:  7.25\n"
     ]
    }
   ],
   "source": [
    "n1 = note.Note('b-4')\n",
    "n1.quarterLength = 7.25\n",
    "n1.show('text')\n",
    "\n",
    "print(\"Note Name: \" + n1.nameWithOctave)\n",
    "print(\"Note MIDI Code: \", n1.pitch.midi)\n",
    "print(\"Note Duration: \", n1.quarterLength)"
   ]
  },
  {
   "cell_type": "markdown",
   "metadata": {},
   "source": [
    "## Test Stream Object"
   ]
  },
  {
   "cell_type": "code",
   "execution_count": 10,
   "metadata": {},
   "outputs": [
    {
     "data": {
      "text/html": [
       "\n",
       "                <div id='midiPlayerDiv4139'></div>\n",
       "                <link rel=\"stylesheet\" href=\"//cuthbertLab.github.io/music21j/css/m21.css\"\n",
       "                    type=\"text/css\" />\n",
       "                <script>\n",
       "                require.config({\n",
       "                    paths: {'music21': '//cuthbertLab.github.io/music21j/src/music21'}\n",
       "                });\n",
       "                require(['music21'], function() {\n",
       "                               mp = new music21.miditools.MidiPlayer();\n",
       "                               mp.addPlayer('#midiPlayerDiv4139');\n",
       "                               mp.base64Load('data:audio/midi;base64,TVRoZAAAAAYAAQACBABNVHJrAAAAFAD/UQMHoSAA/1gEBAIYCIgA/y8ATVRyawAAADIA/wMAAOAAQIgAkEZaugCARgAAkD9aiACAPwAAkEBaiACAQAAAkERaiACARACIAP8vAA==');\n",
       "                        });\n",
       "                </script>"
      ],
      "text/plain": [
       "<IPython.core.display.HTML object>"
      ]
     },
     "metadata": {},
     "output_type": "display_data"
    }
   ],
   "source": [
    "n2 = note.Note('d#4')\n",
    "n3 = note.Note('e4')\n",
    "n4 = note.Note('a-4')\n",
    "\n",
    "newStream = stream.Stream()\n",
    "newStream.append(n1)\n",
    "newStream.append(n2)\n",
    "newStream.append(n3)\n",
    "newStream.append(n4)\n",
    "\n",
    "newStream.show('midi')"
   ]
  },
  {
   "cell_type": "markdown",
   "metadata": {},
   "source": [
    "## Test Chords"
   ]
  },
  {
   "cell_type": "code",
   "execution_count": 11,
   "metadata": {},
   "outputs": [
    {
     "name": "stdout",
     "output_type": "stream",
     "text": [
      "<music21.chord.Chord E3 C4 G4>\n"
     ]
    }
   ],
   "source": [
    "cMajor = chord.Chord([\"E3\",\"C4\",\"G4\"])\n",
    "cMajor.show('text')"
   ]
  },
  {
   "cell_type": "code",
   "execution_count": null,
   "metadata": {},
   "outputs": [],
   "source": []
  }
 ],
 "metadata": {
  "kernelspec": {
   "display_name": "DeepLearning",
   "language": "python",
   "name": "deeplearning"
  },
  "language_info": {
   "codemirror_mode": {
    "name": "ipython",
    "version": 3
   },
   "file_extension": ".py",
   "mimetype": "text/x-python",
   "name": "python",
   "nbconvert_exporter": "python",
   "pygments_lexer": "ipython3",
   "version": "3.9.5"
  }
 },
 "nbformat": 4,
 "nbformat_minor": 4
}
