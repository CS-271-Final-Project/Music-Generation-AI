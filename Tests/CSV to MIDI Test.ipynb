{
 "cells": [
  {
   "cell_type": "code",
   "execution_count": 1,
   "metadata": {},
   "outputs": [],
   "source": [
    "from music21 import *\n",
    "import csv\n",
    "\n",
    "# File management\n",
    "import os\n",
    "from glob import glob\n",
    "from pathlib import Path"
   ]
  },
  {
   "cell_type": "markdown",
   "metadata": {},
   "source": [
    "## Settings"
   ]
  },
  {
   "cell_type": "code",
   "execution_count": 2,
   "metadata": {},
   "outputs": [],
   "source": [
    "csv_directory = r'C:\\Users\\alext\\Desktop\\School\\2021 Spring\\CS 271\\Final Project\\Generation\\Jazz\\Generated Songs\\epochs_40_samp_length_3000_seq_length_50'\n",
    "target_directory = r'C:\\Users\\alext\\Desktop\\School\\2021 Spring\\CS 271\\Final Project\\Generation\\Jazz\\Generated Songs (MIDI)\\epochs_40_samp_length_3000_seq_length_50'"
   ]
  },
  {
   "cell_type": "markdown",
   "metadata": {},
   "source": [
    "## Convert a csv file to a music21 Stream Object"
   ]
  },
  {
   "cell_type": "code",
   "execution_count": 3,
   "metadata": {},
   "outputs": [],
   "source": [
    "def csv_to_stream(csv_file):\n",
    "    # Create a music21 stream object\n",
    "    song_stream = stream.Stream()\n",
    "\n",
    "    # Open the csv file\n",
    "    with open(csv_file, 'r') as csvfile:\n",
    "        datareader = csv.reader(csvfile)\n",
    "        \n",
    "        # Iterate over each row\n",
    "        for row in datareader:\n",
    "            if row:\n",
    "                # Append the notes to the stream\n",
    "                append_notes(row, song_stream)\n",
    "    \n",
    "    return song_stream"
   ]
  },
  {
   "cell_type": "markdown",
   "metadata": {},
   "source": [
    "## Add a list of note pitches to the given stream"
   ]
  },
  {
   "cell_type": "code",
   "execution_count": 4,
   "metadata": {},
   "outputs": [],
   "source": [
    "def append_notes(pitch_list, song_stream):\n",
    "    note_list = []\n",
    "    \n",
    "    # Convert all the pitches into music21 note objects\n",
    "    for pitch in pitch_list:\n",
    "        new_note = note.Note(int(pitch))\n",
    "        note_list.append(new_note)\n",
    "    \n",
    "    # If there is only oen note, append it as-is to the song\n",
    "    if len(note_list) == 1:\n",
    "        song_stream.append(note_list[0])\n",
    "    \n",
    "    # If there are multiple notes, organize them into a chord\n",
    "    else:\n",
    "        new_chord = chord.Chord(note_list)\n",
    "        song_stream.append(new_chord)"
   ]
  },
  {
   "cell_type": "markdown",
   "metadata": {},
   "source": [
    "## Export all csv Files in a Directory"
   ]
  },
  {
   "cell_type": "code",
   "execution_count": 5,
   "metadata": {},
   "outputs": [],
   "source": [
    "# Go to the csv file directory\n",
    "os.chdir(csv_directory)\n",
    "\n",
    "# Get a list of all csv\n",
    "csv_files = glob('*.csv')\n",
    "\n",
    "# Convert and export the csv files\n",
    "for file_name in csv_files:\n",
    "    if not os.path.exists(target_directory):\n",
    "        os.makedirs(target_directory)\n",
    "    \n",
    "    # Construct the path of the source and target files\n",
    "    csv_path = os.path.join(csv_directory, file_name)\n",
    "    target_path = os.path.join(target_directory, file_name[:-4] + '.midi')\n",
    "\n",
    "    # Convert the csv file to a stream\n",
    "    song_stream = csv_to_stream(csv_path)\n",
    "    \n",
    "    # Play the song\n",
    "    # song_stream.show('midi')\n",
    "\n",
    "    # Export to a midi file\n",
    "    song_stream.write('midi', fp=target_path)"
   ]
  }
 ],
 "metadata": {
  "kernelspec": {
   "display_name": "DeepLearning",
   "language": "python",
   "name": "deeplearning"
  },
  "language_info": {
   "codemirror_mode": {
    "name": "ipython",
    "version": 3
   },
   "file_extension": ".py",
   "mimetype": "text/x-python",
   "name": "python",
   "nbconvert_exporter": "python",
   "pygments_lexer": "ipython3",
   "version": "3.9.5"
  }
 },
 "nbformat": 4,
 "nbformat_minor": 4
}
