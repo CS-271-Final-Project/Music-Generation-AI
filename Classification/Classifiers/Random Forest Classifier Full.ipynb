{
 "cells": [
  {
   "cell_type": "code",
   "execution_count": 1,
   "metadata": {},
   "outputs": [],
   "source": [
    "# Data Processing\n",
    "import numpy as np\n",
    "from numpy import genfromtxt\n",
    "import sklearn\n",
    "from sklearn.ensemble import RandomForestClassifier\n",
    "from sklearn.preprocessing import StandardScaler\n",
    "\n",
    "# Plotting\n",
    "from sklearn.metrics import roc_curve, auc\n",
    "import matplotlib\n",
    "import matplotlib.pyplot as plot\n",
    "from matplotlib.pyplot import figure\n",
    "from matplotlib.ticker import MaxNLocator"
   ]
  },
  {
   "cell_type": "markdown",
   "metadata": {},
   "source": [
    "## Settings"
   ]
  },
  {
   "cell_type": "code",
   "execution_count": 2,
   "metadata": {},
   "outputs": [],
   "source": [
    "classical_features_path = r'C:\\Users\\alext\\Desktop\\School\\2021 Spring\\CS 271\\Final Project\\Feature Extraction\\Classical\\Classical Features.csv'\n",
    "jazz_features_path = r'C:\\Users\\alext\\Desktop\\School\\2021 Spring\\CS 271\\Final Project\\Feature Extraction\\Jazz\\Jazz Features.csv'\n",
    "roc_export_path = r'C:\\Users\\alext\\Desktop\\School\\2021 Spring\\CS 271\\Final Project\\Classification\\Random Forest ROC Data.csv'\n",
    "\n",
    "# Set the plot font\n",
    "font = {'family' : 'DejaVu Sans',\n",
    "        'size'   : 18}\n",
    "\n",
    "matplotlib.rc('font', **font)"
   ]
  },
  {
   "cell_type": "markdown",
   "metadata": {},
   "source": [
    "## Load the Feature Data"
   ]
  },
  {
   "cell_type": "code",
   "execution_count": 3,
   "metadata": {},
   "outputs": [],
   "source": [
    "def load_samples(group1_path, group2_path, num_train, num_clasif):\n",
    "    num_to_load = num_train + num_clasif\n",
    "    \n",
    "    # Load enough features for training and classification\n",
    "    group1_features = genfromtxt(group1_path, delimiter=',', max_rows=num_to_load)\n",
    "    group2_features = genfromtxt(group2_path, delimiter=',', max_rows=num_to_load)\n",
    "    \n",
    "    # Get the training features from both groups\n",
    "    training_X = group1_features[0:num_train, :]\n",
    "    training_Y = group2_features[0:num_train, :]\n",
    "    training_samples = np.concatenate((training_X, training_Y), axis=0)\n",
    "    \n",
    "    # Get the testing features from both groups\n",
    "    testing_X = group1_features[num_train:num_to_load, :]\n",
    "    testing_Y = group2_features[num_train:num_to_load, :]\n",
    "    testing_samples = np.concatenate((testing_X, testing_Y), axis=0)\n",
    "    \n",
    "    # Get the classifications for the training and testing feature sets\n",
    "    training_classifs = ([0] * num_train) + ([1] * num_train)\n",
    "    testing_classifs = ([0] * num_clasif) + ([1] * num_clasif)\n",
    "    \n",
    "    return (training_samples, training_classifs, testing_samples, testing_classifs)"
   ]
  },
  {
   "cell_type": "markdown",
   "metadata": {},
   "source": [
    "## Normalize Feature Sets"
   ]
  },
  {
   "cell_type": "code",
   "execution_count": 4,
   "metadata": {},
   "outputs": [],
   "source": [
    "def normalize_features(training_samples, testing_samples):\n",
    "    # Compute the mean and varience of each feature in the training set\n",
    "    scaler = StandardScaler().fit(training_samples)\n",
    "\n",
    "    # Normalize both the training and testing feature sets\n",
    "    training_samples = scaler.transform(training_samples)\n",
    "    testing_samples = scaler.transform(testing_samples)\n",
    "    \n",
    "    return (training_samples, testing_samples)"
   ]
  },
  {
   "cell_type": "markdown",
   "metadata": {},
   "source": [
    "## Plot Accuracies"
   ]
  },
  {
   "cell_type": "code",
   "execution_count": 5,
   "metadata": {},
   "outputs": [],
   "source": [
    "def plot_accuracies(variables, accuracies, variable_name, title_name):\n",
    "    # Set the plot size\n",
    "    figure(figsize=(8, 6), dpi=80)\n",
    "    \n",
    "    # Plot the data\n",
    "    plot.plot(variables, accuracies, marker='.', markersize=15)\n",
    "    \n",
    "    # Set the titles\n",
    "    plot.title(title_name)\n",
    "    plot.xlabel(variable_name)\n",
    "    plot.ylabel('Accuracy')\n",
    "    \n",
    "    # Force the x-axis to display integer ticks\n",
    "    ax = plot.gca()\n",
    "    ax.xaxis.set_major_locator(MaxNLocator(integer=True))\n",
    "    \n",
    "    plot.show()"
   ]
  },
  {
   "cell_type": "markdown",
   "metadata": {},
   "source": [
    "## Compute Average Score"
   ]
  },
  {
   "cell_type": "code",
   "execution_count": 6,
   "metadata": {},
   "outputs": [],
   "source": [
    "def average_score(score_list):\n",
    "    total = 0\n",
    "    \n",
    "    for score in score_list:\n",
    "        total += max(score[0], score[1])\n",
    "    \n",
    "    return total / len(testing_samples)"
   ]
  },
  {
   "cell_type": "markdown",
   "metadata": {},
   "source": [
    "## Train Model"
   ]
  },
  {
   "cell_type": "code",
   "execution_count": 7,
   "metadata": {},
   "outputs": [],
   "source": [
    "def train_model(training_samples):\n",
    "    # Train the model using our training data\n",
    "    model = RandomForestClassifier()\n",
    "    model.fit(training_samples, training_classifs)\n",
    "    \n",
    "    return model"
   ]
  },
  {
   "cell_type": "markdown",
   "metadata": {},
   "source": [
    "## Load the Full Feature Set"
   ]
  },
  {
   "cell_type": "code",
   "execution_count": 8,
   "metadata": {},
   "outputs": [],
   "source": [
    "# Load the feature data\n",
    "# 6000 samples from each genre will be used for training, and 2400 from each for testing\n",
    "sample_data = load_samples(classical_features_path, jazz_features_path, 6000, 2400)\n",
    "training_samples  = sample_data[0]\n",
    "training_classifs = sample_data[1]\n",
    "testing_samples   = sample_data[2]\n",
    "testing_classifs  = sample_data[3]\n",
    "\n",
    "# Normalize the feature sets\n",
    "(training_samples, testing_samples) = normalize_features(training_samples, testing_samples)"
   ]
  },
  {
   "cell_type": "markdown",
   "metadata": {},
   "source": [
    "## Training and Testing"
   ]
  },
  {
   "cell_type": "code",
   "execution_count": 9,
   "metadata": {
    "scrolled": true
   },
   "outputs": [
    {
     "name": "stdout",
     "output_type": "stream",
     "text": [
      "Training... done\n",
      "\n",
      "Testing Accuracy... done\n",
      "Accuracy: 79.1875\n",
      "\n",
      "Testing Average Score...done\n",
      "Average Score: 73.99090823412692\n"
     ]
    }
   ],
   "source": [
    "# Train the model\n",
    "print('Training... ', end = '')\n",
    "model = train_model(training_samples)\n",
    "print('done')\n",
    "\n",
    "# Calculate the accuracy\n",
    "print('\\nTesting Accuracy... ', end = '')\n",
    "accuracy = model.score(testing_samples, testing_classifs)\n",
    "print('done')\n",
    "print('Accuracy: {}'.format(accuracy * 100))\n",
    "\n",
    "# Calculate the average score\n",
    "print('\\nTesting Average Score...',  end = '')\n",
    "score_list = model.predict_proba(testing_samples)\n",
    "avg_score = average_score(score_list)\n",
    "print('done')\n",
    "print('Average Score: {}'.format(avg_score * 100))"
   ]
  },
  {
   "cell_type": "markdown",
   "metadata": {},
   "source": [
    "## Plotting the ROC Curve"
   ]
  },
  {
   "cell_type": "code",
   "execution_count": 10,
   "metadata": {
    "scrolled": false
   },
   "outputs": [
    {
     "data": {
      "image/png": "[encoded data removed]",
      "text/plain": [
       "<Figure size 480x480 with 1 Axes>"
      ]
     },
     "metadata": {
      "needs_background": "light"
     },
     "output_type": "display_data"
    }
   ],
   "source": [
    "fpr, tpr, threshold = roc_curve(testing_classifs, score_list[:, 1])\n",
    "roc_auc = auc(fpr, tpr)\n",
    "\n",
    "# Set the plot settings\n",
    "fig = figure(figsize=(6, 6), dpi=80)\n",
    "ax = fig.add_axes([0,0,1,1])\n",
    "plot.title('Random Forest Classifier')\n",
    "plot.xlabel('TPR')\n",
    "plot.ylabel('FPR')\n",
    "\n",
    "# Plot the ROC\n",
    "plot.plot(fpr, tpr, lw=2, label='Random Forest (AUC = %0.2f)' % roc_auc)\n",
    "\n",
    "# Draw the middle line\n",
    "plot.plot([0, 1], [0, 1], color='red', lw=2, linestyle='--')\n",
    "\n",
    "plot.legend(loc='lower right')\n",
    "plot.show()"
   ]
  },
  {
   "cell_type": "markdown",
   "metadata": {},
   "source": [
    "# Export FPR and TPR"
   ]
  },
  {
   "cell_type": "code",
   "execution_count": 11,
   "metadata": {},
   "outputs": [
    {
     "name": "stdout",
     "output_type": "stream",
     "text": [
      "Exporting ROC Data...\n",
      "Finished\n"
     ]
    }
   ],
   "source": [
    "print('Exporting ROC Data...')\n",
    "\n",
    "f = open(roc_export_path, \"w\")\n",
    "\n",
    "for item in range(fpr.shape[0]):\n",
    "    f.write(str(fpr[item]) + ',' + str(tpr[item]) + '\\n')\n",
    "\n",
    "f.close()\n",
    "\n",
    "print('Finished')"
   ]
  }
 ],
 "metadata": {
  "kernelspec": {
   "display_name": "DeepLearning",
   "language": "python",
   "name": "deeplearning"
  },
  "language_info": {
   "codemirror_mode": {
    "name": "ipython",
    "version": 3
   },
   "file_extension": ".py",
   "mimetype": "text/x-python",
   "name": "python",
   "nbconvert_exporter": "python",
   "pygments_lexer": "ipython3",
   "version": "3.9.5"
  }
 },
 "nbformat": 4,
 "nbformat_minor": 4
}
