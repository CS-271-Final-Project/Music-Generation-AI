{
 "cells": [
  {
   "cell_type": "code",
   "execution_count": 1,
   "metadata": {},
   "outputs": [],
   "source": [
    "# Data Processing\n",
    "import numpy as np\n",
    "from numpy import genfromtxt\n",
    "import sklearn\n",
    "from sklearn.preprocessing import StandardScaler\n",
    "\n",
    "# Base classifiers\n",
    "from sklearn.discriminant_analysis import LinearDiscriminantAnalysis\n",
    "from sklearn.neighbors import KNeighborsClassifier\n",
    "from sklearn import svm\n",
    "from sklearn.ensemble import RandomForestClassifier\n",
    "\n",
    "# Stacking multiclassifier\n",
    "from sklearn.ensemble import StackingClassifier\n",
    "from sklearn.ensemble import GradientBoostingRegressor\n",
    "from sklearn.linear_model import RidgeClassifier\n",
    "from sklearn.linear_model import LogisticRegression\n",
    "\n",
    "# Plotting\n",
    "from sklearn.metrics import roc_curve, auc\n",
    "import matplotlib\n",
    "import matplotlib.pyplot as plot\n",
    "from matplotlib.pyplot import figure\n",
    "from matplotlib.ticker import MaxNLocator"
   ]
  },
  {
   "cell_type": "markdown",
   "metadata": {},
   "source": [
    "## Settings"
   ]
  },
  {
   "cell_type": "code",
   "execution_count": 2,
   "metadata": {},
   "outputs": [],
   "source": [
    "classical_features_path = 'C:\\\\Users\\\\alext\\\\Desktop\\\\School\\\\2021 Spring\\\\CS 271\\\\Final Project\\\\Feature Extraction\\\\Classical\\\\Classical Features.csv'\n",
    "jazz_features_path = 'C:\\\\Users\\\\alext\\\\Desktop\\\\School\\\\2021 Spring\\\\CS 271\\\\Final Project\\\\Feature Extraction\\\\Jazz\\\\Jazz Features.csv'\n",
    "roc_export_path = r'C:\\Users\\alext\\Desktop\\School\\2021 Spring\\CS 271\\Final Project\\Classification\\Stack Ensemble ROC Data.csv'\n",
    "\n",
    "# Set the plot font\n",
    "font = {'family' : 'DejaVu Sans',\n",
    "        'size'   : 18}\n",
    "\n",
    "matplotlib.rc('font', **font)"
   ]
  },
  {
   "cell_type": "markdown",
   "metadata": {},
   "source": [
    "## Load the Feature Data"
   ]
  },
  {
   "cell_type": "code",
   "execution_count": 3,
   "metadata": {},
   "outputs": [],
   "source": [
    "def load_samples(group1_path, group2_path, num_train, num_clasif):\n",
    "    num_to_load = num_train + num_clasif\n",
    "    \n",
    "    # Load enough features for training and classification\n",
    "    group1_features = genfromtxt(group1_path, delimiter=',', max_rows=num_to_load)\n",
    "    group2_features = genfromtxt(group2_path, delimiter=',', max_rows=num_to_load)\n",
    "    \n",
    "    # Get the training features from both groups\n",
    "    training_X = group1_features[0:num_train, :]\n",
    "    training_Y = group2_features[0:num_train, :]\n",
    "    training_samples = np.concatenate((training_X, training_Y), axis=0)\n",
    "    \n",
    "    # Get the testing features from both groups\n",
    "    testing_X = group1_features[num_train:num_to_load, :]\n",
    "    testing_Y = group2_features[num_train:num_to_load, :]\n",
    "    testing_samples = np.concatenate((testing_X, testing_Y), axis=0)\n",
    "    \n",
    "    # Get the classifications for the training and testing feature sets\n",
    "    training_classifs = ([0] * num_train) + ([1] * num_train)\n",
    "    testing_classifs = ([0] * num_clasif) + ([1] * num_clasif)\n",
    "    \n",
    "    return (training_samples, training_classifs, testing_samples, testing_classifs)"
   ]
  },
  {
   "cell_type": "markdown",
   "metadata": {},
   "source": [
    "## Normalize Feature Sets"
   ]
  },
  {
   "cell_type": "code",
   "execution_count": 4,
   "metadata": {},
   "outputs": [],
   "source": [
    "def normalize_features(training_samples, testing_samples):\n",
    "    # Compute the mean and varience of each feature in the training set\n",
    "    scaler = StandardScaler().fit(training_samples)\n",
    "\n",
    "    # Normalize both the training and testing feature sets\n",
    "    training_samples = scaler.transform(training_samples)\n",
    "    testing_samples = scaler.transform(testing_samples)\n",
    "    \n",
    "    return (training_samples, testing_samples)"
   ]
  },
  {
   "cell_type": "markdown",
   "metadata": {},
   "source": [
    "## Plot Accuracies"
   ]
  },
  {
   "cell_type": "code",
   "execution_count": 5,
   "metadata": {},
   "outputs": [],
   "source": [
    "def plot_accuracies(variables, accuracies, variable_name, title_name):\n",
    "    # Set the plot size\n",
    "    figure(figsize=(8, 6), dpi=80)\n",
    "    \n",
    "    # Plot the data\n",
    "    plot.plot(variables, accuracies, marker='.', markersize=15)\n",
    "    \n",
    "    # Set the titles\n",
    "    plot.title(title_name)\n",
    "    plot.xlabel(variable_name)\n",
    "    plot.ylabel('Accuracy')\n",
    "    \n",
    "    # Force the x-axis to display integer ticks\n",
    "    ax = plot.gca()\n",
    "    ax.xaxis.set_major_locator(MaxNLocator(integer=True))\n",
    "    \n",
    "    plot.show()"
   ]
  },
  {
   "cell_type": "markdown",
   "metadata": {},
   "source": [
    "## Compute Average Score"
   ]
  },
  {
   "cell_type": "code",
   "execution_count": 6,
   "metadata": {},
   "outputs": [],
   "source": [
    "def average_score(score_list):\n",
    "    total = 0\n",
    "    \n",
    "    for score in score_list:\n",
    "        total += max(score[0], score[1])\n",
    "    \n",
    "    return total / len(testing_samples)"
   ]
  },
  {
   "cell_type": "markdown",
   "metadata": {},
   "source": [
    "## Train Model"
   ]
  },
  {
   "cell_type": "code",
   "execution_count": 7,
   "metadata": {},
   "outputs": [],
   "source": [
    "def train_model(training_samples, estimators, final_estimator):\n",
    "    # Train the model using our training data\n",
    "    model = StackingClassifier(estimators=estimators, final_estimator=final_estimator)\n",
    "    model.fit(training_samples, training_classifs)\n",
    "    \n",
    "    return model"
   ]
  },
  {
   "cell_type": "markdown",
   "metadata": {},
   "source": [
    "## Load the Full Feature Set"
   ]
  },
  {
   "cell_type": "code",
   "execution_count": 8,
   "metadata": {},
   "outputs": [],
   "source": [
    "# Load the feature data\n",
    "# 6000 samples from each genre will be used for training, and 2400 from each for testing\n",
    "sample_data = load_samples(classical_features_path, jazz_features_path, 6000, 2400)\n",
    "training_samples  = sample_data[0]\n",
    "training_classifs = sample_data[1]\n",
    "testing_samples   = sample_data[2]\n",
    "testing_classifs  = sample_data[3]\n",
    "\n",
    "# Normalize the feature sets\n",
    "(training_samples, testing_samples) = normalize_features(training_samples, testing_samples)"
   ]
  },
  {
   "cell_type": "markdown",
   "metadata": {},
   "source": [
    "## Creating Estimators"
   ]
  },
  {
   "cell_type": "code",
   "execution_count": 9,
   "metadata": {},
   "outputs": [],
   "source": [
    "lda_model = LinearDiscriminantAnalysis(solver='svd')\n",
    "knn_model = KNeighborsClassifier(algorithm='kd_tree', n_neighbors=13, p=1.0)\n",
    "svm_model = svm.SVC(probability=False, kernel='rbf', C=1, degree=1, gamma=0.08, coef0=1.0)\n",
    "rf_model  = RandomForestClassifier()\n",
    "\n",
    "base_learners = [('est_1', lda_model), ('est_2', knn_model), ('est_3', svm_model), ('est_4', rf_model)]\n",
    "\n",
    "final_estimator = LogisticRegression()"
   ]
  },
  {
   "cell_type": "markdown",
   "metadata": {},
   "source": [
    "# Training and Testing"
   ]
  },
  {
   "cell_type": "code",
   "execution_count": 10,
   "metadata": {
    "scrolled": true
   },
   "outputs": [
    {
     "name": "stdout",
     "output_type": "stream",
     "text": [
      "Training... done\n",
      "\n",
      "Testing Accuracy... done\n",
      "Accuracy: 79.91666666666667\n",
      "\n",
      "Testing Average Score...done\n",
      "Average Score: 80.43277325547923\n"
     ]
    }
   ],
   "source": [
    "# Train the model\n",
    "print('Training... ', end = '')\n",
    "model = train_model(training_samples, base_learners, final_estimator)\n",
    "print('done')\n",
    "\n",
    "# Calculate the accuracy\n",
    "print('\\nTesting Accuracy... ', end = '')\n",
    "accuracy = model.score(testing_samples, testing_classifs)\n",
    "print('done')\n",
    "print('Accuracy: {}'.format(accuracy * 100))\n",
    "\n",
    "# Calculate the average score\n",
    "print('\\nTesting Average Score...',  end = '')\n",
    "score_list = model.predict_proba(testing_samples)\n",
    "avg_score = average_score(score_list)\n",
    "print('done')\n",
    "print('Average Score: {}'.format(avg_score * 100))"
   ]
  },
  {
   "cell_type": "code",
   "execution_count": 16,
   "metadata": {
    "scrolled": true
   },
   "outputs": [
    {
     "name": "stdout",
     "output_type": "stream",
     "text": [
      "[[-0.55080159  0.17510396 -0.25776487 ... -0.61732953 -0.10413143\n",
      "  -0.09464812]\n",
      " [ 0.36954512  0.51302783 -0.06221737 ... -0.4061839   0.6830587\n",
      "  -0.34879877]\n",
      " [ 0.63494216 -0.42401314 -0.32122655 ... -0.64284704 -0.75286541\n",
      "   0.21052561]\n",
      " ...\n",
      " [ 0.21643624 -1.17893375 -0.90930477 ...  1.70922326 -1.31562261\n",
      "   1.06031485]\n",
      " [-0.08645053  2.53991196 -0.33656773 ... -0.52201541  1.61773065\n",
      "  -0.54796959]\n",
      " [-0.05486672  1.39262814 -0.6266234  ... -0.68457568  1.37559314\n",
      "  -0.89277172]]\n"
     ]
    }
   ],
   "source": [
    "print(testing_samples)"
   ]
  },
  {
   "cell_type": "markdown",
   "metadata": {},
   "source": [
    "## Plotting the ROC Curve"
   ]
  },
  {
   "cell_type": "code",
   "execution_count": 11,
   "metadata": {
    "scrolled": false
   },
   "outputs": [
    {
     "data": {
      "image/png": "[encoded data removed]",
      "text/plain": [
       "<Figure size 480x480 with 1 Axes>"
      ]
     },
     "metadata": {
      "needs_background": "light"
     },
     "output_type": "display_data"
    }
   ],
   "source": [
    "fpr, tpr, threshold = roc_curve(testing_classifs, score_list[:, 1])\n",
    "roc_auc = auc(fpr, tpr)\n",
    "\n",
    "# Set the plot settings\n",
    "fig = figure(figsize=(6, 6), dpi=80)\n",
    "ax = fig.add_axes([0,0,1,1])\n",
    "plot.title('Stacking Ensemble Classifier')\n",
    "plot.xlabel('TPR')\n",
    "plot.ylabel('FPR')\n",
    "\n",
    "# Plot the ROC\n",
    "plot.plot(fpr, tpr, lw=2, label='Stacking (AUC = %0.2f)' % roc_auc)\n",
    "\n",
    "# Draw the middle line\n",
    "plot.plot([0, 1], [0, 1], color='red', lw=2, linestyle='--')\n",
    "\n",
    "plot.legend(loc='lower right')\n",
    "plot.show()"
   ]
  },
  {
   "cell_type": "markdown",
   "metadata": {},
   "source": [
    "## Export FPR and TPR"
   ]
  },
  {
   "cell_type": "code",
   "execution_count": 12,
   "metadata": {},
   "outputs": [
    {
     "name": "stdout",
     "output_type": "stream",
     "text": [
      "Exporting ROC Data...\n",
      "Finished\n"
     ]
    }
   ],
   "source": [
    "print('Exporting ROC Data...')\n",
    "\n",
    "f = open(roc_export_path, \"w\")\n",
    "\n",
    "for item in range(fpr.shape[0]):\n",
    "    f.write(str(fpr[item]) + ',' + str(tpr[item]) + '\\n')\n",
    "\n",
    "f.close()\n",
    "\n",
    "print('Finished')"
   ]
  }
 ],
 "metadata": {
  "kernelspec": {
   "display_name": "DeepLearning",
   "language": "python",
   "name": "deeplearning"
  },
  "language_info": {
   "codemirror_mode": {
    "name": "ipython",
    "version": 3
   },
   "file_extension": ".py",
   "mimetype": "text/x-python",
   "name": "python",
   "nbconvert_exporter": "python",
   "pygments_lexer": "ipython3",
   "version": "3.9.5"
  }
 },
 "nbformat": 4,
 "nbformat_minor": 4
}
