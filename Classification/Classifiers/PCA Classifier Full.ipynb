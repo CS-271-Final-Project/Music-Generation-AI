{
 "cells": [
  {
   "cell_type": "code",
   "execution_count": 1,
   "metadata": {
    "scrolled": false
   },
   "outputs": [],
   "source": [
    "# Math\n",
    "import math\n",
    "import torch\n",
    "\n",
    "# Data Processing\n",
    "import numpy as np\n",
    "from numpy import genfromtxt\n",
    "import sklearn\n",
    "from sklearn.decomposition import PCA\n",
    "from sklearn.preprocessing import StandardScaler\n",
    "\n",
    "# Plotting\n",
    "from sklearn.metrics import roc_curve, auc\n",
    "import matplotlib\n",
    "import matplotlib.pyplot as plot\n",
    "from matplotlib.pyplot import figure\n",
    "from matplotlib.ticker import MaxNLocator"
   ]
  },
  {
   "cell_type": "markdown",
   "metadata": {},
   "source": [
    "## Settings"
   ]
  },
  {
   "cell_type": "code",
   "execution_count": 2,
   "metadata": {},
   "outputs": [],
   "source": [
    "classical_features_path = 'C:\\\\Users\\\\alext\\\\Desktop\\\\School\\\\2021 Spring\\\\CS 271\\\\Final Project\\\\Feature Extraction\\\\Classical\\\\Classical Features.csv'\n",
    "jazz_features_path = 'C:\\\\Users\\\\alext\\\\Desktop\\\\School\\\\2021 Spring\\\\CS 271\\\\Final Project\\\\Feature Extraction\\\\Jazz\\\\Jazz Features.csv'\n",
    "roc_export_path = r'C:\\Users\\alext\\Desktop\\School\\2021 Spring\\CS 271\\Final Project\\Classification\\PCA ROC Data.csv'\n",
    "\n",
    "# The number of principle components\n",
    "num_pc = 22\n",
    "\n",
    "# Set the plot font\n",
    "font = {'family' : 'DejaVu Sans',\n",
    "        'size'   : 18}\n",
    "\n",
    "matplotlib.rc('font', **font)"
   ]
  },
  {
   "cell_type": "markdown",
   "metadata": {},
   "source": [
    "## Utility Functions"
   ]
  },
  {
   "cell_type": "code",
   "execution_count": 3,
   "metadata": {},
   "outputs": [],
   "source": [
    "# Returns the mean of each row\n",
    "def row_mean(tensor):\n",
    "    return list(map(torch.mean, tensor))\n",
    "\n",
    "# Subtracts a vector from each column of a matrix\n",
    "def sub_vec(tensor, vec):\n",
    "    return torch.vstack(list(map(torch.subtract, tensor, vec)))"
   ]
  },
  {
   "cell_type": "markdown",
   "metadata": {},
   "source": [
    "## Custom PCA Model"
   ]
  },
  {
   "cell_type": "code",
   "execution_count": 4,
   "metadata": {},
   "outputs": [],
   "source": [
    "class PCA_model:\n",
    "    def __init__(self, training_data, num_components):\n",
    "        mu, eigenbasis, scoring_mat = self.gen_model(training_data, num_components)\n",
    "        \n",
    "        self.mu = mu\n",
    "        self.eigenbasis = eigenbasis\n",
    "        self.scoring_mat = scoring_mat\n",
    "    \n",
    "    \n",
    "    # Generates a model using the given training data\n",
    "    # Computes the row mean of the data, the eigenbasis, and scoring matrix\n",
    "    def gen_model(self, training_data, num_components):\n",
    "        # Calculate the mean of each row (measurement type)\n",
    "        mu = row_mean(training_data)\n",
    "        # Normalize the training data by subtracting the mean from each row\n",
    "        A = sub_vec(training_data, mu)\n",
    "        \n",
    "        # Perform the svd technique on the normalized training data\n",
    "        # U contains the eigenvectors of A A^T\n",
    "        # S contains the corresponding eigenvalues\n",
    "        # Note that the eigenvectors and eigenvalues are already ordered\n",
    "        (U, S, V) = torch.svd(A)\n",
    "        \n",
    "        # In this model, we don't select by weight\n",
    "        l = num_components\n",
    "\n",
    "        # Select the l largest eigenvectors in U to form our eigenbasis\n",
    "        U_prime = U[:, 0:l]\n",
    "\n",
    "        # Compute and print the eigenvalues of C\n",
    "        num_samples = A.size()[1]\n",
    "        eigenvalues = (S[:l]**2)/num_samples\n",
    "\n",
    "        # Transpose the eigenbasis\n",
    "        U_prime_t = torch.transpose(U_prime,0,1)\n",
    "        # Perform a matrix multiplicaiton on the eigenbasis and\n",
    "        # normalized training data to get the scoring matrix\n",
    "        scoring_mat = U_prime_t @ A\n",
    "        \n",
    "        return mu, U_prime_t, scoring_mat\n",
    "    \n",
    "    \n",
    "    # Returns the minimum distance between a vector and any column of a matrix\n",
    "    def min_dist_vec(vector, matrix):\n",
    "        # Get the size of the matrix\n",
    "        matrix_rows = matrix.size()[0]\n",
    "        matrix_cols = matrix.size()[1]\n",
    "        \n",
    "        min_dist_sq = float('inf')\n",
    "\n",
    "        # Find the minimum distance between the vector and each matrix column\n",
    "        for matrix_col in range(matrix_cols):\n",
    "            # Select the scoring column\n",
    "            mat_col_vec = matrix[:, matrix_col:matrix_col+1]\n",
    "\n",
    "            # Calculate the distance squared\n",
    "            diff = vector - mat_col_vec\n",
    "            dist_sq = torch.sum(torch.square(diff), dim=0)\n",
    "            \n",
    "            # Upade the minimum\n",
    "            if dist_sq < min_dist_sq:\n",
    "                min_dist_sq = dist_sq\n",
    "        \n",
    "        # Return the minimum distance\n",
    "        return math.sqrt(min_dist_sq)\n",
    "    \n",
    "    \n",
    "    # Score a matrix of samples against the model\n",
    "    def score(self, samples):\n",
    "        # Normalize the sample data by subtracting the training data mean from each row\n",
    "        Y_prime = sub_vec(samples, self.mu)\n",
    "        \n",
    "        # Project the sample data into the eigenbasis to find the weight vectors\n",
    "        W = self.eigenbasis @ Y_prime\n",
    "        \n",
    "        # Get the number of data samples\n",
    "        weight_cols = W.size()[1]\n",
    "        \n",
    "        # A list of scores for each weight vector\n",
    "        scores = []\n",
    "\n",
    "        # Calculate the score for each weight vector\n",
    "        for weight_col in range (weight_cols):\n",
    "            # Select weight column\n",
    "            weight_vec = W[:, weight_col:weight_col+1]\n",
    "            \n",
    "            # Save the minimum score of each weight vector\n",
    "            min_dist = PCA_model.min_dist_vec(weight_vec, self.scoring_mat)\n",
    "            scores.append(min_dist)\n",
    "\n",
    "        return scores"
   ]
  },
  {
   "cell_type": "markdown",
   "metadata": {},
   "source": [
    "## Load the Feature Data"
   ]
  },
  {
   "cell_type": "code",
   "execution_count": 5,
   "metadata": {},
   "outputs": [],
   "source": [
    "def load_samples(group1_path, group2_path, num_train, num_clasif):\n",
    "    num_to_load = num_train + num_clasif\n",
    "    \n",
    "    # Load enough features for training and classification\n",
    "    group1_features = genfromtxt(group1_path, delimiter=',', max_rows=num_to_load)\n",
    "    group2_features = genfromtxt(group2_path, delimiter=',', max_rows=num_to_load)\n",
    "    \n",
    "    # Get the training features from both groups\n",
    "    training_X = group1_features[0:num_train, :]\n",
    "    training_Y = group2_features[0:num_train, :]\n",
    "    training_samples = np.concatenate((training_X, training_Y), axis=0)\n",
    "    \n",
    "    # Get the testing features from both groups\n",
    "    testing_X = group1_features[num_train:num_to_load, :]\n",
    "    testing_Y = group2_features[num_train:num_to_load, :]\n",
    "    testing_samples = np.concatenate((testing_X, testing_Y), axis=0)\n",
    "    \n",
    "    # Get the classifications for the training and testing feature sets\n",
    "    training_classifs = ([0] * num_train) + ([1] * num_train)\n",
    "    testing_classifs = ([0] * num_clasif) + ([1] * num_clasif)\n",
    "    \n",
    "    return (training_samples, training_classifs, testing_samples, testing_classifs)"
   ]
  },
  {
   "cell_type": "markdown",
   "metadata": {},
   "source": [
    "## Normalize Feature Sets"
   ]
  },
  {
   "cell_type": "code",
   "execution_count": 6,
   "metadata": {},
   "outputs": [],
   "source": [
    "def normalize_features(training_samples, testing_samples):\n",
    "    # Compute the mean and varience of each feature in the training set\n",
    "    scaler = StandardScaler().fit(training_samples)\n",
    "\n",
    "    # Normalize both the training and testing feature sets\n",
    "    training_samples = scaler.transform(training_samples)\n",
    "    testing_samples = scaler.transform(testing_samples)\n",
    "    \n",
    "    return (training_samples, testing_samples)"
   ]
  },
  {
   "cell_type": "markdown",
   "metadata": {},
   "source": [
    "## Compute the Accuracy"
   ]
  },
  {
   "cell_type": "code",
   "execution_count": 7,
   "metadata": {},
   "outputs": [],
   "source": [
    "def compute_accuracy(classical_scores, jazz_scores):\n",
    "    num_samples = len(classical_scores)\n",
    "    num_correct = 0\n",
    "\n",
    "    for sample in range(num_samples):\n",
    "        if classical_scores[sample] < jazz_scores[sample]:\n",
    "            prediction = 0\n",
    "        else:\n",
    "            prediction = 1\n",
    "\n",
    "        if prediction == testing_classifs[sample]:\n",
    "            num_correct += 1\n",
    "\n",
    "    accuracy = (num_correct / num_samples)\n",
    "    return accuracy"
   ]
  },
  {
   "cell_type": "markdown",
   "metadata": {},
   "source": [
    "## Normalize PCA Scores"
   ]
  },
  {
   "cell_type": "code",
   "execution_count": 8,
   "metadata": {},
   "outputs": [],
   "source": [
    "# Code from https://stackoverflow.com/questions/1969240/mapping-a-range-of-values-to-another\n",
    "def translate(value, leftMin, leftMax, rightMin, rightMax):\n",
    "    # Figure out how 'wide' each range is\n",
    "    leftSpan = leftMax - leftMin\n",
    "    rightSpan = rightMax - rightMin\n",
    "\n",
    "    # Convert the left range into a 0-1 range (float)\n",
    "    valueScaled = float(value - leftMin) / float(leftSpan)\n",
    "\n",
    "    # Convert the 0-1 range into a value in the right range.\n",
    "    return rightMin + (valueScaled * rightSpan)"
   ]
  },
  {
   "cell_type": "code",
   "execution_count": 9,
   "metadata": {},
   "outputs": [],
   "source": [
    "def normalize_scores(classical_scores, jazz_scores):\n",
    "    num_samples = len(classical_scores)\n",
    "    \n",
    "    # Contains probabilities of a song being in either genre they add to 1)\n",
    "    norm_scores = np.zeros(shape=(num_samples, 2))\n",
    "    \n",
    "    # Find the range of scores\n",
    "    min_score = min(min(classical_scores), min(jazz_scores))\n",
    "    max_score = max(max(classical_scores), max(jazz_scores))\n",
    "    \n",
    "    # Normalize the probabilities\n",
    "    for sample in range(num_samples):\n",
    "        # Map the scores to a range 0-1\n",
    "        classical_norm = translate(classical_scores[sample], min_score, max_score, 0, 1)\n",
    "        jazz_norm = translate(jazz_scores[sample], min_score, max_score, 0, 1)\n",
    "        \n",
    "        # Invert the scores so that larger is better\n",
    "        classical_norm = 1 - classical_norm\n",
    "        jazz_norm = 1 - jazz_norm\n",
    "        \n",
    "        # Normazie the scores so that they add up to 1\n",
    "        magnitude = math.sqrt(classical_norm * classical_norm + jazz_norm * jazz_norm)\n",
    "        classical_norm /= magnitude\n",
    "        jazz_norm /= magnitude\n",
    "        \n",
    "        # Add the scores to the list\n",
    "        norm_scores[sample] = [classical_norm, jazz_norm]\n",
    "    \n",
    "    return norm_scores"
   ]
  },
  {
   "cell_type": "markdown",
   "metadata": {},
   "source": [
    "## Plot Accuracies"
   ]
  },
  {
   "cell_type": "code",
   "execution_count": 10,
   "metadata": {},
   "outputs": [],
   "source": [
    "def plot_accuracies(variables, accuracies, variable_name, title_name):\n",
    "    # Set the plot size\n",
    "    figure(figsize=(8, 6), dpi=80)\n",
    "    \n",
    "    # Plot the data\n",
    "    plot.plot(variables, accuracies, marker='.', markersize=15)\n",
    "    \n",
    "    # Set the titles\n",
    "    plot.title(title_name)\n",
    "    plot.xlabel(variable_name)\n",
    "    plot.ylabel('Accuracy')\n",
    "    \n",
    "    # Force the x-axis to display integer ticks\n",
    "    ax = plot.gca()\n",
    "    ax.xaxis.set_major_locator(MaxNLocator(integer=True))\n",
    "    \n",
    "    plot.show()"
   ]
  },
  {
   "cell_type": "markdown",
   "metadata": {},
   "source": [
    "## Load a Small Feature Set"
   ]
  },
  {
   "cell_type": "code",
   "execution_count": 11,
   "metadata": {},
   "outputs": [],
   "source": [
    "# Load the feature data\n",
    "sample_data = load_samples(classical_features_path, jazz_features_path, 6000, 2400)\n",
    "training_samples  = sample_data[0]\n",
    "training_classifs = sample_data[1]\n",
    "testing_samples   = sample_data[2]\n",
    "testing_classifs  = sample_data[3]\n",
    "\n",
    "# Normalize the feature sets\n",
    "(training_samples, testing_samples) = normalize_features(training_samples, testing_samples)\n",
    "\n",
    "# Convert the numpy matrices into pytorch tensors\n",
    "classical_training = torch.tensor(training_samples[0:6000])\n",
    "jazz_training = torch.tensor(training_samples[6000:12000])\n",
    "testing_samples = torch.tensor(testing_samples)\n",
    "\n",
    "# Transpose the matrices so that each data vector is a column\n",
    "classical_training = torch.transpose(classical_training, 0, 1)\n",
    "jazz_training = torch.transpose(jazz_training, 0, 1)\n",
    "testing_samples = torch.transpose(testing_samples, 0, 1)"
   ]
  },
  {
   "cell_type": "markdown",
   "metadata": {},
   "source": [
    "## Principle Component Testing"
   ]
  },
  {
   "cell_type": "code",
   "execution_count": 12,
   "metadata": {
    "scrolled": false
   },
   "outputs": [
    {
     "name": "stdout",
     "output_type": "stream",
     "text": [
      "Training... done\n",
      "\n",
      "Scoring... done\n",
      "\n",
      "Testing Accuracy... done\n",
      "Accuracy: 74.20833333333333\n"
     ]
    }
   ],
   "source": [
    "# Train a model on each genre\n",
    "print('Training... ', end = '')\n",
    "classical_model = PCA_model(classical_training, num_pc)\n",
    "jazz_model = PCA_model(jazz_training, num_pc)\n",
    "print('done')\n",
    "\n",
    "# Score the testing samples against each model\n",
    "print('\\nScoring... ', end = '')\n",
    "classical_scores = classical_model.score(testing_samples)\n",
    "jazz_scores = jazz_model.score(testing_samples)\n",
    "print('done')\n",
    "\n",
    "# Compute the accuracy\n",
    "print('\\nTesting Accuracy... ', end = '')\n",
    "accuracy = compute_accuracy(classical_scores, jazz_scores)\n",
    "print('done')\n",
    "print('Accuracy: {}'.format(accuracy * 100))"
   ]
  },
  {
   "cell_type": "markdown",
   "metadata": {},
   "source": [
    "## Plotting the ROC Curve"
   ]
  },
  {
   "cell_type": "code",
   "execution_count": 13,
   "metadata": {},
   "outputs": [
    {
     "data": {
      "image/png": "[encoded data removed]",
      "text/plain": [
       "<Figure size 480x480 with 1 Axes>"
      ]
     },
     "metadata": {
      "needs_background": "light"
     },
     "output_type": "display_data"
    }
   ],
   "source": [
    "# Normalize the scores\n",
    "norm_scores = normalize_scores(classical_scores, jazz_scores)\n",
    "\n",
    "fpr, tpr, threshold = roc_curve(testing_classifs, norm_scores[:, 1])\n",
    "roc_auc = auc(fpr, tpr)\n",
    "\n",
    "# Set the plot size\n",
    "fig = figure(figsize=(6, 6), dpi=80)\n",
    "ax = fig.add_axes([0,0,1,1])\n",
    "\n",
    "# Plot the ROC\n",
    "plot.plot(fpr, tpr, lw=2, label='PCA (AUC = %0.2f)' % roc_auc)\n",
    "\n",
    "# Draw the middle line\n",
    "plot.plot([0, 1], [0, 1], color='red', lw=2, linestyle='--')\n",
    "\n",
    "plot.legend(loc='lower right')\n",
    "plot.show()"
   ]
  },
  {
   "cell_type": "markdown",
   "metadata": {},
   "source": [
    "## Export FPR and TPR"
   ]
  },
  {
   "cell_type": "code",
   "execution_count": 14,
   "metadata": {},
   "outputs": [
    {
     "name": "stdout",
     "output_type": "stream",
     "text": [
      "Exporting ROC Data...\n",
      "Finished\n"
     ]
    }
   ],
   "source": [
    "print('Exporting ROC Data...')\n",
    "\n",
    "f = open(roc_export_path, \"w\")\n",
    "\n",
    "for item in range(fpr.shape[0]):\n",
    "    f.write(str(fpr[item]) + ',' + str(tpr[item]) + '\\n')\n",
    "\n",
    "f.close()\n",
    "\n",
    "print('Finished')"
   ]
  }
 ],
 "metadata": {
  "kernelspec": {
   "display_name": "DeepLearning",
   "language": "python",
   "name": "deeplearning"
  },
  "language_info": {
   "codemirror_mode": {
    "name": "ipython",
    "version": 3
   },
   "file_extension": ".py",
   "mimetype": "text/x-python",
   "name": "python",
   "nbconvert_exporter": "python",
   "pygments_lexer": "ipython3",
   "version": "3.9.5"
  }
 },
 "nbformat": 4,
 "nbformat_minor": 4
}
