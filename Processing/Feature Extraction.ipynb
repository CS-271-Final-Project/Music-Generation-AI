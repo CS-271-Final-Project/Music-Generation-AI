{
 "cells": [
  {
   "cell_type": "code",
   "execution_count": 1,
   "metadata": {},
   "outputs": [],
   "source": [
    "import os\n",
    "from glob import glob\n",
    "import csv\n",
    "from music21 import *\n",
    "from music21.features import jSymbolic as js"
   ]
  },
  {
   "cell_type": "markdown",
   "metadata": {},
   "source": [
    "## Settings"
   ]
  },
  {
   "cell_type": "code",
   "execution_count": 2,
   "metadata": {},
   "outputs": [],
   "source": [
    "# Classical music target and destination\n",
    "# corpus_path = r'C:\\Users\\alext\\Desktop\\School\\2021 Spring\\CS 271\\Final Project\\Feature Extraction\\Classical\\Classical Extracted Notes'\n",
    "# export_path = r'C:\\Users\\alext\\Desktop\\School\\2021 Spring\\CS 271\\Final Project\\Feature Extraction\\Classical\\Classical Features.csv'\n",
    "\n",
    "# Jazz music target and destination\n",
    "# corpus_path = r'C:\\Users\\alext\\Desktop\\School\\2021 Spring\\CS 271\\Final Project\\Feature Extraction\\Jazz\\Jazz Extracted Notes'\n",
    "# export_path = r'C:\\Users\\alext\\Desktop\\School\\2021 Spring\\CS 271\\Final Project\\Feature Extraction\\Jazz\\Jazz Features.csv'\n",
    "\n",
    "# Generated classical music target and destination\n",
    "# corpus_path = r'C:\\Users\\alext\\Desktop\\School\\2021 Spring\\CS 271\\Final Project\\Generation\\Classical\\Generated Songs'\n",
    "# export_path = r'C:\\Users\\alext\\Desktop\\School\\2021 Spring\\CS 271\\Final Project\\Generation\\Classical\\Features'\n",
    "\n",
    "# Generated jazz music target and destination\n",
    "corpus_path = r'C:\\Users\\alext\\Desktop\\School\\2021 Spring\\CS 271\\Final Project\\Generation\\Jazz\\Generated Songs'\n",
    "export_path = r'C:\\Users\\alext\\Desktop\\School\\2021 Spring\\CS 271\\Final Project\\Generation\\Jazz\\Features'\n",
    "\n",
    "# File and folder naming format for generated songs\n",
    "file_format = 'epochs_40_samp_length_{}_seq_length_{}'\n",
    "# Song generation parameters\n",
    "sample_legths = [1000, 2000, 3000]\n",
    "sequence_lengths = [10, 50, 100, 200, 300]\n",
    "\n",
    "# The duration of each note\n",
    "note_duration = 1\n",
    "\n",
    "# The list of features to extract\n",
    "# Refer to the JSymbolic docs page for explanations on each\n",
    "# https://web.mit.edu/music21/doc/moduleReference/moduleFeaturesJSymbolic.html\n",
    "feature_extractors = [\n",
    "    js.AmountOfArpeggiationFeature,\n",
    "    js.AverageMelodicIntervalFeature,\n",
    "    js.ChromaticMotionFeature,\n",
    "    js.DirectionOfMotionFeature,\n",
    "    js.DistanceBetweenMostCommonMelodicIntervalsFeature,\n",
    "    js.DurationOfMelodicArcsFeature,\n",
    "    js.ImportanceOfBassRegisterFeature,\n",
    "    js.ImportanceOfHighRegisterFeature,\n",
    "    js.ImportanceOfMiddleRegisterFeature,\n",
    "    js.IntervalBetweenStrongestPitchClassesFeature,\n",
    "    js.IntervalBetweenStrongestPitchesFeature,\n",
    "    js.MelodicFifthsFeature,\n",
    "    js.MelodicOctavesFeature,\n",
    "    js.MelodicThirdsFeature,\n",
    "    js.MelodicTritonesFeature,\n",
    "    js.MostCommonMelodicIntervalFeature,\n",
    "    js.MostCommonMelodicIntervalPrevalenceFeature,\n",
    "    js.MostCommonPitchClassPrevalenceFeature,\n",
    "    js.MostCommonPitchPrevalenceFeature,\n",
    "    js.NumberOfCommonMelodicIntervalsFeature,\n",
    "    js.NumberOfCommonPitchesFeature,\n",
    "    js.PitchClassVarietyFeature,\n",
    "    js.PitchVarietyFeature,\n",
    "    js.PrimaryRegisterFeature,\n",
    "    js.RangeFeature,\n",
    "    js.RelativeStrengthOfTopPitchClassesFeature,\n",
    "    js.RelativeStrengthOfTopPitchesFeature,\n",
    "    js.RepeatedNotesFeature,\n",
    "    js.SizeOfMelodicArcsFeature,\n",
    "    js.StepwiseMotionFeature\n",
    "]"
   ]
  },
  {
   "cell_type": "markdown",
   "metadata": {},
   "source": [
    "## Convert a CSV File to a Stream"
   ]
  },
  {
   "cell_type": "code",
   "execution_count": 3,
   "metadata": {},
   "outputs": [],
   "source": [
    "# Convert a csv file back to a music21 stream object\n",
    "def csv_to_stream(csv_file):\n",
    "    # A list of the notes in the song\n",
    "    note_list = []\n",
    "    # The offset of the current note\n",
    "    offset = 0\n",
    "\n",
    "    # Open the csv file\n",
    "    with open(csv_file, 'r') as csvfile:\n",
    "        datareader = csv.reader(csvfile)\n",
    "        \n",
    "        # Iterate over each row\n",
    "        for row in datareader:\n",
    "            if row:\n",
    "                # Append the notes to the stream\n",
    "                append_notes(row, offset, note_list)\n",
    "                # Increase the offset\n",
    "                offset += note_duration\n",
    "    \n",
    "    # Create a music21 stream object from the list\n",
    "    return stream.Stream(note_list)\n",
    "\n",
    "\n",
    "# Add a list of note pitches to the given list\n",
    "def append_notes(pitch_list, offset, note_list):\n",
    "    phrase = []\n",
    "    \n",
    "    # Convert all the pitches into music21 note objects\n",
    "    for pitch in pitch_list:\n",
    "        new_note = note.Note(int(pitch))\n",
    "        new_note.offset = offset\n",
    "        phrase.append(new_note)\n",
    "    \n",
    "    # If there is only oen note, append it as-is to the song\n",
    "    if len(phrase) == 1:\n",
    "        note_list.append(phrase[0])\n",
    "    \n",
    "    # If there are multiple notes, organize them into a chord\n",
    "    else:\n",
    "        new_chord = chord.Chord(phrase)\n",
    "        note_list.append(new_chord)"
   ]
  },
  {
   "cell_type": "markdown",
   "metadata": {},
   "source": [
    "## Extract the Features From a File"
   ]
  },
  {
   "cell_type": "code",
   "execution_count": 4,
   "metadata": {},
   "outputs": [],
   "source": [
    "def extract_features(song_stream):\n",
    "    data_set = features.DataSet(classLabel='Genre')\n",
    "    \n",
    "    data_set.addData(song_stream)\n",
    "    data_set.addFeatureExtractors(feature_extractors)\n",
    "    data_set.process()\n",
    "    \n",
    "    return data_set.getFeaturesAsList(includeClassLabel=False, includeId=False)"
   ]
  },
  {
   "cell_type": "markdown",
   "metadata": {},
   "source": [
    "## Extract the Features From a Corpus"
   ]
  },
  {
   "cell_type": "code",
   "execution_count": 5,
   "metadata": {
    "scrolled": false
   },
   "outputs": [],
   "source": [
    "def extract_corpus():\n",
    "    # Go to the corpus directory\n",
    "    os.chdir(corpus_path)\n",
    "    \n",
    "    # Count the files processed\n",
    "    row = 0\n",
    "\n",
    "    # Write the feature to a csv file\n",
    "    with open(export_path, 'w', newline='') as csv_file:\n",
    "        write = csv.writer(csv_file)\n",
    "\n",
    "        # Export the notes of each score as a csv file\n",
    "        for song_file in glob('*.csv'):\n",
    "            row += 1\n",
    "\n",
    "            if row % 50 == 0:\n",
    "                print(row)\n",
    "\n",
    "            # Extract the features of the song\n",
    "            song_stream = csv_to_stream(song_file)\n",
    "            exctracted_features = extract_features(song_stream)\n",
    "\n",
    "            # Write the features to the csv file\n",
    "            write.writerows([exctracted_features])"
   ]
  },
  {
   "cell_type": "markdown",
   "metadata": {},
   "source": [
    "## Extract the Features From Generated Songs"
   ]
  },
  {
   "cell_type": "code",
   "execution_count": 6,
   "metadata": {},
   "outputs": [],
   "source": [
    "def extract_generated(file_format):\n",
    "    # Iterate through the parameter combinations\n",
    "    for sample_length in sample_legths:\n",
    "        for sequence_length in sequence_lengths:\n",
    "            file_name = file_format.format(sample_length, sequence_length)\n",
    "            # Construct the corpus and export paths\n",
    "            curr_corpus_path = os.path.join(corpus_path, file_name)\n",
    "            curr_export_path = os.path.join(export_path, file_name + '.csv')\n",
    "            \n",
    "            # Go to the corpus directory\n",
    "            os.chdir(curr_corpus_path)\n",
    "\n",
    "            # Count the files processed\n",
    "            row = 0\n",
    "\n",
    "            # Write the feature to a csv file\n",
    "            with open(curr_export_path, 'w', newline='') as csv_file:\n",
    "                write = csv.writer(csv_file)\n",
    "\n",
    "                # Export the notes of each score as a csv file\n",
    "                for song_file in glob('*.csv'):\n",
    "                    row += 1\n",
    "\n",
    "                    if row % 50 == 0:\n",
    "                        print(row)\n",
    "\n",
    "                    # Extract the features of the song\n",
    "                    song_stream = csv_to_stream(song_file)\n",
    "                    exctracted_features = extract_features(song_stream)\n",
    "\n",
    "                    # Write the features to the csv file\n",
    "                    write.writerows([exctracted_features])"
   ]
  },
  {
   "cell_type": "markdown",
   "metadata": {},
   "source": [
    "## Driver"
   ]
  },
  {
   "cell_type": "code",
   "execution_count": 7,
   "metadata": {},
   "outputs": [
    {
     "name": "stdout",
     "output_type": "stream",
     "text": [
      "Extracting...\n",
      "\n",
      "\n",
      "Finished\n"
     ]
    }
   ],
   "source": [
    "print('Extracting...\\n')\n",
    "\n",
    "# extract_corpus()\n",
    "extract_generated(file_format)\n",
    "\n",
    "print('\\nFinished')"
   ]
  }
 ],
 "metadata": {
  "kernelspec": {
   "display_name": "DeepLearning",
   "language": "python",
   "name": "deeplearning"
  },
  "language_info": {
   "codemirror_mode": {
    "name": "ipython",
    "version": 3
   },
   "file_extension": ".py",
   "mimetype": "text/x-python",
   "name": "python",
   "nbconvert_exporter": "python",
   "pygments_lexer": "ipython3",
   "version": "3.9.5"
  }
 },
 "nbformat": 4,
 "nbformat_minor": 4
}
